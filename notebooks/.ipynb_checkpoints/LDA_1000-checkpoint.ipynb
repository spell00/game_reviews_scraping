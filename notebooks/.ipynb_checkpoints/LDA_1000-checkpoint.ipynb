{
 "cells": [
  {
   "cell_type": "code",
   "execution_count": 1,
   "metadata": {},
   "outputs": [],
   "source": [
    "import os\n",
    "os.chdir(\"..\")"
   ]
  },
  {
   "cell_type": "code",
   "execution_count": 2,
   "metadata": {},
   "outputs": [],
   "source": [
    "import time\n",
    "#basic imports\n",
    "import pandas as pd\n",
    "import numpy as np\n",
    "import matplotlib.pyplot as plt\n",
    "import seaborn as sns\n",
    "from time import time\n",
    "import spacy \n",
    "#word modeling\n",
    "from gensim.models.doc2vec import Doc2Vec, TaggedDocument\n",
    "from nltk.tokenize import word_tokenize \n",
    "from sklearn.model_selection import train_test_split\n",
    "from sklearn.metrics import confusion_matrix, classification_report\n",
    "from sklearn.manifold import TSNE\n",
    "from sklearn.linear_model import LogisticRegression\n",
    "from sklearn.decomposition import PCA \n",
    "from sklearn.decomposition import FactorAnalysis \n",
    "from sklearn.preprocessing import StandardScaler\n",
    "from sklearn.discriminant_analysis import LinearDiscriminantAnalysis, QuadraticDiscriminantAnalysis\n",
    "from sklearn.manifold import TSNE\n",
    "from sklearn.svm import SVC\n",
    "from sklearn.model_selection import cross_val_predict\n",
    "from gensim.parsing.preprocessing import remove_stopwords\n",
    "import nltk\n",
    "\n",
    "import warnings\n",
    "warnings.filterwarnings(\"ignore\",category=DeprecationWarning)\n",
    "warnings.filterwarnings('ignore',message=\"Precision\")\n",
    "from imblearn.over_sampling import SVMSMOTE, SMOTE, BorderlineSMOTE, RandomOverSampler, KMeansSMOTE, ADASYN\n",
    "\n",
    "from sklearn.decomposition import LatentDirichletAllocation\n",
    "from sklearn.feature_extraction.text import TfidfVectorizer, CountVectorizer\n",
    "from sklearn.decomposition import NMF, LatentDirichletAllocation\n",
    "from gensim.parsing.preprocessing import remove_stopwords\n",
    "\n",
    "from nltk.corpus import stopwords\n",
    "from preprocess_less import replace_stopwords\n"
   ]
  },
  {
   "cell_type": "code",
   "execution_count": 3,
   "metadata": {},
   "outputs": [],
   "source": [
    "def heatconmat(y_true, y_pred):\n",
    "    sns.set_context('talk')\n",
    "    plt.figure(figsize=(4,4))\n",
    "    sns.heatmap(confusion_matrix(y_true,y_pred),\n",
    "                annot=True,\n",
    "                fmt='d',\n",
    "                cbar=False,\n",
    "                cmap='gist_earth_r')\n",
    "    plt.show()\n",
    "    print(classification_report(y_true,y_pred))"
   ]
  },
  {
   "cell_type": "code",
   "execution_count": 4,
   "metadata": {},
   "outputs": [],
   "source": [
    "def print_top_words(model, feature_names, n_top_words):\n",
    "    for topic_idx, topic in enumerate(model.components_):\n",
    "        message = \"Topic #%d: \" % topic_idx\n",
    "        message += \" \".join([feature_names[i]\n",
    "                             for i in topic.argsort()[:-n_top_words - 1:-1]])\n",
    "        print(message)\n",
    "    print()\n"
   ]
  },
  {
   "cell_type": "code",
   "execution_count": 5,
   "metadata": {},
   "outputs": [],
   "source": [
    "n_features = 1000\n",
    "n_top_words = 20"
   ]
  },
  {
   "cell_type": "markdown",
   "metadata": {},
   "source": [
    "# load data\n"
   ]
  },
  {
   "cell_type": "code",
   "execution_count": 7,
   "metadata": {},
   "outputs": [
    {
     "data": {
      "text/html": [
       "<div>\n",
       "<style scoped>\n",
       "    .dataframe tbody tr th:only-of-type {\n",
       "        vertical-align: middle;\n",
       "    }\n",
       "\n",
       "    .dataframe tbody tr th {\n",
       "        vertical-align: top;\n",
       "    }\n",
       "\n",
       "    .dataframe thead th {\n",
       "        text-align: right;\n",
       "    }\n",
       "</style>\n",
       "<table border=\"1\" class=\"dataframe\">\n",
       "  <thead>\n",
       "    <tr style=\"text-align: right;\">\n",
       "      <th></th>\n",
       "      <th>id</th>\n",
       "      <th>funny</th>\n",
       "      <th>helpful</th>\n",
       "      <th>recommend</th>\n",
       "      <th>polarity</th>\n",
       "      <th>positive</th>\n",
       "      <th>subjectivity</th>\n",
       "      <th>review</th>\n",
       "    </tr>\n",
       "  </thead>\n",
       "  <tbody>\n",
       "    <tr>\n",
       "      <th>1</th>\n",
       "      <td>76561197970982479</td>\n",
       "      <td>NaN</td>\n",
       "      <td>No ratings yet</td>\n",
       "      <td>1</td>\n",
       "      <td>0.17444444444444446</td>\n",
       "      <td>True</td>\n",
       "      <td>0.3796031746031746</td>\n",
       "      <td>simple yet with great replaceability in my opi...</td>\n",
       "    </tr>\n",
       "    <tr>\n",
       "      <th>2</th>\n",
       "      <td>76561197970982479</td>\n",
       "      <td>NaN</td>\n",
       "      <td>No ratings yet</td>\n",
       "      <td>1</td>\n",
       "      <td>0.3375</td>\n",
       "      <td>True</td>\n",
       "      <td>0.55</td>\n",
       "      <td>its unique and worth a</td>\n",
       "    </tr>\n",
       "    <tr>\n",
       "      <th>3</th>\n",
       "      <td>76561197970982479</td>\n",
       "      <td>NaN</td>\n",
       "      <td>No ratings yet</td>\n",
       "      <td>1</td>\n",
       "      <td>0.04999999999999999</td>\n",
       "      <td>False</td>\n",
       "      <td>0.4125</td>\n",
       "      <td>great atmosphere the gunplay can be a bit chun...</td>\n",
       "    </tr>\n",
       "    <tr>\n",
       "      <th>4</th>\n",
       "      <td>js41637</td>\n",
       "      <td>NaN</td>\n",
       "      <td>15 of 20 people (75%) found this review helpful</td>\n",
       "      <td>1</td>\n",
       "      <td>0.11458333333333336</td>\n",
       "      <td>True</td>\n",
       "      <td>0.6604166666666667</td>\n",
       "      <td>i know what you think when you see this title ...</td>\n",
       "    </tr>\n",
       "    <tr>\n",
       "      <th>5</th>\n",
       "      <td>js41637</td>\n",
       "      <td>NaN</td>\n",
       "      <td>0 of 1 people (0%) found this review helpful</td>\n",
       "      <td>1</td>\n",
       "      <td>-0.03611111111111112</td>\n",
       "      <td>False</td>\n",
       "      <td>0.3780045351473924</td>\n",
       "      <td>for a simple its actually not all that simple ...</td>\n",
       "    </tr>\n",
       "    <tr>\n",
       "      <th>...</th>\n",
       "      <td>...</td>\n",
       "      <td>...</td>\n",
       "      <td>...</td>\n",
       "      <td>...</td>\n",
       "      <td>...</td>\n",
       "      <td>...</td>\n",
       "      <td>...</td>\n",
       "      <td>...</td>\n",
       "    </tr>\n",
       "    <tr>\n",
       "      <th>59301</th>\n",
       "      <td>76561198312638244</td>\n",
       "      <td>NaN</td>\n",
       "      <td>No ratings yet</td>\n",
       "      <td>1</td>\n",
       "      <td>0.2333333333333333</td>\n",
       "      <td>True</td>\n",
       "      <td>0.13333333333333333</td>\n",
       "      <td>a Must_Have classic from steam definitely wort...</td>\n",
       "    </tr>\n",
       "    <tr>\n",
       "      <th>59302</th>\n",
       "      <td>76561198312638244</td>\n",
       "      <td>NaN</td>\n",
       "      <td>No ratings yet</td>\n",
       "      <td>1</td>\n",
       "      <td>0.14250000000000004</td>\n",
       "      <td>True</td>\n",
       "      <td>0.4425</td>\n",
       "      <td>this game is a perfect remake of the original ...</td>\n",
       "    </tr>\n",
       "    <tr>\n",
       "      <th>59303</th>\n",
       "      <td>LydiaMorley</td>\n",
       "      <td>1 person found this review funny</td>\n",
       "      <td>1 of 2 people (50%) found this review helpful</td>\n",
       "      <td>1</td>\n",
       "      <td>0.08750000000000001</td>\n",
       "      <td>False</td>\n",
       "      <td>0.3833333333333333</td>\n",
       "      <td>had so much fun placing this and collecting re...</td>\n",
       "    </tr>\n",
       "    <tr>\n",
       "      <th>59304</th>\n",
       "      <td>LydiaMorley</td>\n",
       "      <td>NaN</td>\n",
       "      <td>No ratings yet</td>\n",
       "      <td>1</td>\n",
       "      <td>1.0</td>\n",
       "      <td>True</td>\n",
       "      <td>1.0</td>\n",
       "      <td>d</td>\n",
       "    </tr>\n",
       "    <tr>\n",
       "      <th>59305</th>\n",
       "      <td>LydiaMorley</td>\n",
       "      <td>NaN</td>\n",
       "      <td>No ratings yet</td>\n",
       "      <td>1</td>\n",
       "      <td>0.65</td>\n",
       "      <td>True</td>\n",
       "      <td>0.6</td>\n",
       "      <td>so much fun d</td>\n",
       "    </tr>\n",
       "  </tbody>\n",
       "</table>\n",
       "<p>59305 rows × 8 columns</p>\n",
       "</div>"
      ],
      "text/plain": [
       "                      id                             funny  \\\n",
       "1      76561197970982479                               NaN   \n",
       "2      76561197970982479                               NaN   \n",
       "3      76561197970982479                               NaN   \n",
       "4                js41637                               NaN   \n",
       "5                js41637                               NaN   \n",
       "...                  ...                               ...   \n",
       "59301  76561198312638244                               NaN   \n",
       "59302  76561198312638244                               NaN   \n",
       "59303        LydiaMorley  1 person found this review funny   \n",
       "59304        LydiaMorley                               NaN   \n",
       "59305        LydiaMorley                               NaN   \n",
       "\n",
       "                                               helpful recommend  \\\n",
       "1                                       No ratings yet         1   \n",
       "2                                       No ratings yet         1   \n",
       "3                                       No ratings yet         1   \n",
       "4      15 of 20 people (75%) found this review helpful         1   \n",
       "5         0 of 1 people (0%) found this review helpful         1   \n",
       "...                                                ...       ...   \n",
       "59301                                   No ratings yet         1   \n",
       "59302                                   No ratings yet         1   \n",
       "59303    1 of 2 people (50%) found this review helpful         1   \n",
       "59304                                   No ratings yet         1   \n",
       "59305                                   No ratings yet         1   \n",
       "\n",
       "                   polarity positive         subjectivity  \\\n",
       "1       0.17444444444444446     True   0.3796031746031746   \n",
       "2                    0.3375     True                 0.55   \n",
       "3       0.04999999999999999    False               0.4125   \n",
       "4       0.11458333333333336     True   0.6604166666666667   \n",
       "5      -0.03611111111111112    False   0.3780045351473924   \n",
       "...                     ...      ...                  ...   \n",
       "59301    0.2333333333333333     True  0.13333333333333333   \n",
       "59302   0.14250000000000004     True               0.4425   \n",
       "59303   0.08750000000000001    False   0.3833333333333333   \n",
       "59304                   1.0     True                  1.0   \n",
       "59305                  0.65     True                  0.6   \n",
       "\n",
       "                                                  review  \n",
       "1      simple yet with great replaceability in my opi...  \n",
       "2                                 its unique and worth a  \n",
       "3      great atmosphere the gunplay can be a bit chun...  \n",
       "4      i know what you think when you see this title ...  \n",
       "5      for a simple its actually not all that simple ...  \n",
       "...                                                  ...  \n",
       "59301  a Must_Have classic from steam definitely wort...  \n",
       "59302  this game is a perfect remake of the original ...  \n",
       "59303  had so much fun placing this and collecting re...  \n",
       "59304                                                  d  \n",
       "59305                                      so much fun d  \n",
       "\n",
       "[59305 rows x 8 columns]"
      ]
     },
     "execution_count": 7,
     "metadata": {},
     "output_type": "execute_result"
    }
   ],
   "source": [
    "train_docs = pd.read_csv('steam_australia_norm_w2v.csv', \n",
    "                         names=[\"id\", \"funny\", \"helpful\", \"recommend\",\n",
    "                               \"polarity\", \"positive\", \"subjectivity\", \"review\"],\n",
    "                        header=None).reset_index(drop=True)[1:]\n",
    "recommend_indices = [i for i, x in enumerate(np.array(train_docs[\"recommend\"])) if type(x) == str]\n",
    "train_docs"
   ]
  },
  {
   "cell_type": "markdown",
   "metadata": {},
   "source": [
    "## Removing stopwords\n",
    "\n",
    "Stopwords have not been removed yet because they can be in a game's name. Those are defined now and should be Capitalized and with underscores (if it is the case), so their stopwords are safe"
   ]
  },
  {
   "cell_type": "code",
   "execution_count": 8,
   "metadata": {},
   "outputs": [],
   "source": [
    "spacy_nlp = spacy.load('en_core_web_lg')\n",
    "spacy_stopwords = spacy.lang.en.stop_words.STOP_WORDS\n",
    "stop_words = set(list(set(stopwords.words('english'))) + list(spacy_stopwords))\n",
    "\n",
    "train_docs[\"review\"] = np.array([replace_stopwords(str(w), stop_words) for w in np.array(train_docs[\"review\"])])"
   ]
  },
  {
   "cell_type": "markdown",
   "metadata": {},
   "source": [
    "## Define valid / train"
   ]
  },
  {
   "cell_type": "code",
   "execution_count": 9,
   "metadata": {},
   "outputs": [
    {
     "name": "stderr",
     "output_type": "stream",
     "text": [
      "/usr/local/lib/python3.6/dist-packages/pandas/core/series.py:1146: FutureWarning: \n",
      "Passing list-likes to .loc or [] with any missing label will raise\n",
      "KeyError in the future, you can use .reindex() as an alternative.\n",
      "\n",
      "See the documentation here:\n",
      "https://pandas.pydata.org/pandas-docs/stable/user_guide/indexing.html#deprecate-loc-reindex-listlike\n",
      "  return self.loc[key]\n"
     ]
    }
   ],
   "source": [
    "data_samples = np.array(train_docs['review'][recommend_indices])\n",
    "data_samples = np.array([remove_stopwords(str(s)) for s in data_samples])\n",
    "true_y = np.array(np.array(train_docs[\"recommend\"])[recommend_indices], dtype=int)\n"
   ]
  },
  {
   "cell_type": "code",
   "execution_count": 10,
   "metadata": {},
   "outputs": [],
   "source": [
    "\n",
    "#shuffled_indices = list(range(len(true_y)))\n",
    "#np.random.shuffle(shuffled_indices)\n",
    "#data_samples = data_samples[shuffled_indices]\n",
    "#true_y = true_y[shuffled_indices]\n",
    "def lda_cv(model, data_samples, true_y, n_features, tol=0.001, cv=3, verbose=0, nc=1, min_df=5, smote=False):\n",
    "    t0 = time()\n",
    "    models = []\n",
    "    valid_acc = []\n",
    "    valid_ys = []\n",
    "    valid_arrr = []\n",
    "    train_arrr = []\n",
    "    train_acc = []\n",
    "\n",
    "    for c in range(cv):\n",
    "        if verbose > 0:\n",
    "            print(\"CV: {}/{}\".format(str(c+1), str(cv)))\n",
    "        ind_from = int((len(data_samples) / cv) * c)\n",
    "        ind_to = int((len(data_samples) / cv ) * (c+1))\n",
    "        if c == cv-1:\n",
    "            ind_to = -1\n",
    "        if verbose > 2:\n",
    "            print(\"Valid samples from\", ind_from, \"to\", ind_to)\n",
    "        valid_samples = data_samples[ind_from:ind_to]\n",
    "        train_samples = np.concatenate((data_samples[:ind_from], data_samples[ind_to:]))\n",
    "        valid_y = true_y[ind_from:ind_to]\n",
    "        train_y = np.concatenate((true_y[:ind_from],true_y[ind_to:]))\n",
    "        print(valid_y.shape)\n",
    "        print(train_y.shape)\n",
    "        assert len(data_samples) == len(train_samples) + len(valid_samples)\n",
    "        tfidf_vectorizer = TfidfVectorizer(max_df=0.95, min_df=min_df,\n",
    "                                           max_features=n_features,\n",
    "                                           stop_words='english')\n",
    "        tfidf_vectorizer.fit(train_samples.astype('U'))\n",
    "        train_data  = tfidf_vectorizer.transform(train_samples.astype('U')).toarray()\n",
    "        valid_data  = tfidf_vectorizer.transform(valid_samples.astype('U')).toarray()\n",
    "        if verbose > 2:\n",
    "            print(\"Vectorizing done in %0.3fs.\" % (time() - t0))\n",
    "        if smote:\n",
    "            sm = SMOTE(random_state=42, n_jobs=-1)\n",
    "            train_data, train_y = sm.fit_resample(train_data, train_y)\n",
    "\n",
    "\n",
    "        flda = model(tol=0.001)\n",
    "        t0 = time()\n",
    "        flda.fit(train_data, train_y)\n",
    "        if verbose > 2:\n",
    "            print(\"Linear Discriminant Analysis done in %0.3fs.\" % (time() - t0))\n",
    "\n",
    "        predict_y_train = flda.predict(train_data)\n",
    "        predict_y_valid = flda.predict(valid_data)\n",
    "        train_arr = np.concatenate((predict_y_train.reshape([-1, 1]), train_y.reshape([-1, 1])), 1)\n",
    "        valid_arr = np.concatenate((predict_y_valid.reshape([-1, 1]), valid_y.reshape([-1, 1])), 1)\n",
    "        \n",
    "        valid_ys += [valid_y]\n",
    "        train_arrr += [train_arr]\n",
    "        valid_arrr += [valid_arr]\n",
    "        train_total = len(train_arr)\n",
    "        valid_total = len(valid_arr)\n",
    "        train_corrects = [i for i, x in enumerate(train_arr) if x[0] == x[1]]\n",
    "        train_accuracy = len(train_corrects)/train_total\n",
    "        valid_corrects = [i for i, x in enumerate(valid_arr) if x[0] == x[1]]\n",
    "        valid_accuracy = len(valid_corrects)/valid_total\n",
    "        if verbose > 1:\n",
    "            print(\"Model Train accuracy:\", len(train_corrects), \"/\", train_total, train_accuracy)\n",
    "            print(\"Predict Train only Recommended accuracy:\", np.sum(train_y), \"/\", total, np.sum(train_y)/train_total)\n",
    "            print(\"Model Train accuracy:\", len(train_corrects), \"/\", valid_total, valid_accuracy)\n",
    "            print(\"Predict Predict only Recommended accuracy:\", np.sum(valid_y), \"/\", valid_total, np.sum(valid_y)/valid_total)\n",
    "        train_acc += [train_accuracy]\n",
    "        valid_acc += [valid_accuracy]        \n",
    "        models += [flda]\n",
    "    return models, train_acc, valid_acc, train_arrr, valid_arrr"
   ]
  },
  {
   "cell_type": "markdown",
   "metadata": {},
   "source": [
    "valid_arr_100_lda = np.concatenate(valid_arr_100_lda)"
   ]
  },
  {
   "cell_type": "raw",
   "metadata": {},
   "source": [
    "predict_y = valid_arr_100_lda[:, 0]\n",
    "ty = valid_arr_100_lda[:, 1]\n",
    "\n",
    "corrects = [i for i, pt in enumerate(valid_arr_100_lda) if pt[0] == pt[1]]\n",
    "\n",
    "valid_total = len(ty)\n",
    "valid_accuracy = len(corrects) / len(ty)\n",
    "print(\"Valid accuracy:\", len(corrects), \"/\", valid_total, valid_accuracy)\n",
    "print(\"Predict only Recommended accuracy:\", np.sum(ty), \"/\", valid_total, np.sum(ty)/valid_total)\n"
   ]
  },
  {
   "cell_type": "code",
   "execution_count": null,
   "metadata": {},
   "outputs": [],
   "source": [
    "model = LinearDiscriminantAnalysis\n",
    "models_100_lda, train_accuracies_100_lda, valid_accuracies_100_lda, \\\n",
    "    train_arr_100_lda, valid_arr_100_lda  = lda_cv(model, data_samples, true_y, m\n",
    "                                                   n_features=100, cv=3, verbose=1)\n",
    "models_500_lda, train_accuracies_500_lda, valid_accuracies_500_lda, \\\n",
    "    train_arr_500_lda, valid_arr_500_lda  = lda_cv(model, data_samples, true_y, \n",
    "                                                   n_features=500, cv=3, verbose=1)\n",
    "models_1000_lda, train_accuracies_1000_lda, valid_accuracies_1000_lda, \\\n",
    "    train_arr_1000_lda, valid_arr_1000_lda  = lda_cv(model, data_samples, true_y, \n",
    "                                                   n_features=1000, cv=3, verbose=1)\n",
    "models_2000_lda, train_accuracies_2000_lda, valid_accuracies_2000_lda, \\\n",
    "    train_arr_2000_lda, valid_arr_2000_lda  = lda_cv(model, data_samples, true_y, \n",
    "                                                   n_features=2000, cv=3, verbose=1)\n",
    "models_5000_lda, train_accuracies_5000_lda, valid_accuracies_5000_lda, \\\n",
    "    train_arr_5000_lda, valid_arr_5000_lda  = lda_cv(model, data_samples, true_y, \n",
    "                                                   n_features=5000, cv=3, verbose=1)\n"
   ]
  },
  {
   "cell_type": "code",
   "execution_count": 12,
   "metadata": {},
   "outputs": [],
   "source": [
    "zeros = np.zeros(len(train_accuracies_1000_lda), dtype=np.int)\n",
    "ones = np.ones(len(train_accuracies_1000_lda), dtype=np.int)\n",
    "zeros_ones = np.concatenate((zeros, ones), 0).reshape([-1, 1])\n",
    "zeros_ones.shape\n",
    "ones1 = np.ones(len(zeros_ones), dtype=np.int).reshape([-1, 1])"
   ]
  },
  {
   "cell_type": "code",
   "execution_count": 13,
   "metadata": {},
   "outputs": [],
   "source": [
    "accuracies_100_lda = np.concatenate((np.array(train_accuracies_100_lda).reshape([-1, 1]), \n",
    "                                  np.array(valid_accuracies_100_lda).reshape([-1, 1])), 0)\n",
    "accuracies_100_lda = np.concatenate((zeros_ones, ones1 * 100, accuracies_100_lda), 1)\n",
    "accuracies_500_lda = np.concatenate((np.array(train_accuracies_500_lda).reshape([-1, 1]), \n",
    "                                  np.array(valid_accuracies_500_lda).reshape([-1, 1])), 0)\n",
    "accuracies_500_lda = np.concatenate((zeros_ones, ones1 * 500, accuracies_500_lda), 1)\n",
    "accuracies_1000_lda = np.concatenate((np.array(train_accuracies_1000_lda).reshape([-1, 1]), \n",
    "                                  np.array(valid_accuracies_1000_lda).reshape([-1, 1])), 0)\n",
    "accuracies_1000_lda = np.concatenate((zeros_ones, ones1 * 1000, accuracies_1000_lda), 1)\n",
    "\n",
    "accuracies_2000_lda = np.concatenate((np.array(train_accuracies_2000_lda).reshape([-1, 1]), \n",
    "                                  np.array(valid_accuracies_2000_lda).reshape([-1, 1])), 0)\n",
    "accuracies_2000_lda = np.concatenate((zeros_ones, ones1 * 2000, accuracies_2000_lda), 1)\n",
    "\n",
    "#accuracies_5000_lda = np.concatenate((np.array(train_accuracies_5000_lda).reshape([-1, 1]), \n",
    "#                                  np.array(valid_accuracies_5000_lda).reshape([-1, 1])), 0)\n",
    "#accuracies_5000_lda = np.concatenate((zeros_ones, ones1 * 5000, accuracies_5000_lda), 1)\n",
    "\n",
    "\n",
    "accuracies_lda = np.concatenate((accuracies_100_lda, \n",
    "                             accuracies_500_lda, \n",
    "                             accuracies_1000_lda, \n",
    "                             accuracies_2000_lda,\n",
    "                             #accuracies_5000_lda\n",
    "                                ), 0)\n",
    "accuracies_lda = pd.DataFrame(accuracies_lda, columns=[\"valid\", \"group\", \"acc\"])"
   ]
  },
  {
   "cell_type": "markdown",
   "metadata": {},
   "source": [
    "# Precision"
   ]
  },
  {
   "cell_type": "raw",
   "metadata": {},
   "source": [
    "from matplotlib import pyplot\n",
    "fig, ax = pyplot.subplots(figsize=[9, 6])\n",
    "g = sns.violinplot(x=\"group\", y=\"acc\", \n",
    "                   hue=\"valid\", data=accuracies_qda, \n",
    "                   palette=\"muted\")\n",
    "plt.show()"
   ]
  },
  {
   "cell_type": "code",
   "execution_count": 14,
   "metadata": {},
   "outputs": [
    {
     "data": {
      "image/png": "[encoded data removed]",
      "text/plain": [
       "<Figure size 648x432 with 1 Axes>"
      ]
     },
     "metadata": {
      "needs_background": "light"
     },
     "output_type": "display_data"
    }
   ],
   "source": [
    "from matplotlib import pyplot\n",
    "fig, ax = pyplot.subplots(figsize=[9, 6])\n",
    "g = sns.violinplot(x=\"group\", y=\"acc\", \n",
    "                   hue=\"valid\", data=accuracies_lda, \n",
    "                   palette=\"muted\")\n",
    "plt.show()"
   ]
  },
  {
   "cell_type": "code",
   "execution_count": 16,
   "metadata": {},
   "outputs": [],
   "source": [
    "valid_arr_100_lda = np.concatenate((valid_arr_100_lda))\n"
   ]
  },
  {
   "cell_type": "code",
   "execution_count": 17,
   "metadata": {},
   "outputs": [
    {
     "data": {
      "image/png": "[encoded data removed]",
      "text/plain": [
       "<Figure size 288x288 with 1 Axes>"
      ]
     },
     "metadata": {
      "needs_background": "light"
     },
     "output_type": "display_data"
    },
    {
     "name": "stdout",
     "output_type": "stream",
     "text": [
      "              precision    recall  f1-score   support\n",
      "\n",
      "           0       0.00      0.00      0.00         0\n",
      "           1       1.00      0.88      0.94     59304\n",
      "\n",
      "    accuracy                           0.88     59304\n",
      "   macro avg       0.50      0.44      0.47     59304\n",
      "weighted avg       1.00      0.88      0.94     59304\n",
      "\n"
     ]
    },
    {
     "name": "stderr",
     "output_type": "stream",
     "text": [
      "/usr/local/lib/python3.6/dist-packages/sklearn/metrics/_classification.py:1268: UndefinedMetricWarning: Recall and F-score are ill-defined and being set to 0.0 in labels with no true samples. Use `zero_division` parameter to control this behavior.\n",
      "  _warn_prf(average, modifier, msg_start, len(result))\n"
     ]
    }
   ],
   "source": [
    "heatconmat(valid_arr_100_lda[:,0], valid_arr_100_lda[:,1])"
   ]
  },
  {
   "cell_type": "code",
   "execution_count": 18,
   "metadata": {},
   "outputs": [
    {
     "data": {
      "image/png": "[encoded data removed]",
      "text/plain": [
       "<Figure size 288x288 with 1 Axes>"
      ]
     },
     "metadata": {
      "needs_background": "light"
     },
     "output_type": "display_data"
    },
    {
     "name": "stdout",
     "output_type": "stream",
     "text": [
      "              precision    recall  f1-score   support\n",
      "\n",
      "           0       0.00      0.18      0.01       126\n",
      "           1       1.00      0.88      0.94     59178\n",
      "\n",
      "    accuracy                           0.88     59304\n",
      "   macro avg       0.50      0.53      0.47     59304\n",
      "weighted avg       1.00      0.88      0.94     59304\n",
      "\n"
     ]
    }
   ],
   "source": [
    "valid_arr_1000_lda = np.concatenate((valid_arr_1000_lda))\n",
    "heatconmat(valid_arr_1000_lda[:,0], valid_arr_1000_lda[:,1])"
   ]
  },
  {
   "cell_type": "code",
   "execution_count": 23,
   "metadata": {},
   "outputs": [],
   "source": [
    "tfidf_vectorizer = TfidfVectorizer(max_df=0.95, min_df=2,\n",
    "                                   max_features=1000,\n",
    "                                   stop_words='english')\n",
    "tfidf_vectorizer.fit(data_samples.astype('U'))\n",
    "all_data  = tfidf_vectorizer.transform(data_samples.astype('U')).toarray()\n"
   ]
  },
  {
   "cell_type": "markdown",
   "metadata": {},
   "source": [
    "Predicting too many recommendations because of the bias in the data (Need to rectify)"
   ]
  },
  {
   "cell_type": "code",
   "execution_count": 28,
   "metadata": {},
   "outputs": [
    {
     "data": {
      "text/html": [
       "<div>\n",
       "<style scoped>\n",
       "    .dataframe tbody tr th:only-of-type {\n",
       "        vertical-align: middle;\n",
       "    }\n",
       "\n",
       "    .dataframe tbody tr th {\n",
       "        vertical-align: top;\n",
       "    }\n",
       "\n",
       "    .dataframe thead th {\n",
       "        text-align: right;\n",
       "    }\n",
       "</style>\n",
       "<table border=\"1\" class=\"dataframe\">\n",
       "  <thead>\n",
       "    <tr style=\"text-align: right;\">\n",
       "      <th></th>\n",
       "      <th>predictions</th>\n",
       "      <th>true</th>\n",
       "      <th>z</th>\n",
       "    </tr>\n",
       "  </thead>\n",
       "  <tbody>\n",
       "    <tr>\n",
       "      <th>0</th>\n",
       "      <td>1.0</td>\n",
       "      <td>1.0</td>\n",
       "      <td>0.005936</td>\n",
       "    </tr>\n",
       "    <tr>\n",
       "      <th>1</th>\n",
       "      <td>1.0</td>\n",
       "      <td>1.0</td>\n",
       "      <td>-0.041139</td>\n",
       "    </tr>\n",
       "    <tr>\n",
       "      <th>2</th>\n",
       "      <td>1.0</td>\n",
       "      <td>1.0</td>\n",
       "      <td>0.338847</td>\n",
       "    </tr>\n",
       "    <tr>\n",
       "      <th>3</th>\n",
       "      <td>1.0</td>\n",
       "      <td>1.0</td>\n",
       "      <td>1.135143</td>\n",
       "    </tr>\n",
       "    <tr>\n",
       "      <th>4</th>\n",
       "      <td>1.0</td>\n",
       "      <td>1.0</td>\n",
       "      <td>-0.383643</td>\n",
       "    </tr>\n",
       "    <tr>\n",
       "      <th>...</th>\n",
       "      <td>...</td>\n",
       "      <td>...</td>\n",
       "      <td>...</td>\n",
       "    </tr>\n",
       "    <tr>\n",
       "      <th>59300</th>\n",
       "      <td>1.0</td>\n",
       "      <td>1.0</td>\n",
       "      <td>-0.310453</td>\n",
       "    </tr>\n",
       "    <tr>\n",
       "      <th>59301</th>\n",
       "      <td>1.0</td>\n",
       "      <td>1.0</td>\n",
       "      <td>0.243344</td>\n",
       "    </tr>\n",
       "    <tr>\n",
       "      <th>59302</th>\n",
       "      <td>1.0</td>\n",
       "      <td>1.0</td>\n",
       "      <td>0.223191</td>\n",
       "    </tr>\n",
       "    <tr>\n",
       "      <th>59303</th>\n",
       "      <td>1.0</td>\n",
       "      <td>1.0</td>\n",
       "      <td>1.207632</td>\n",
       "    </tr>\n",
       "    <tr>\n",
       "      <th>59304</th>\n",
       "      <td>1.0</td>\n",
       "      <td>1.0</td>\n",
       "      <td>0.001307</td>\n",
       "    </tr>\n",
       "  </tbody>\n",
       "</table>\n",
       "<p>59305 rows × 3 columns</p>\n",
       "</div>"
      ],
      "text/plain": [
       "       predictions  true         z\n",
       "0              1.0   1.0  0.005936\n",
       "1              1.0   1.0 -0.041139\n",
       "2              1.0   1.0  0.338847\n",
       "3              1.0   1.0  1.135143\n",
       "4              1.0   1.0 -0.383643\n",
       "...            ...   ...       ...\n",
       "59300          1.0   1.0 -0.310453\n",
       "59301          1.0   1.0  0.243344\n",
       "59302          1.0   1.0  0.223191\n",
       "59303          1.0   1.0  1.207632\n",
       "59304          1.0   1.0  0.001307\n",
       "\n",
       "[59305 rows x 3 columns]"
      ]
     },
     "execution_count": 28,
     "metadata": {},
     "output_type": "execute_result"
    }
   ],
   "source": [
    "flda = LinearDiscriminantAnalysis(tol=0.001)\n",
    "z = flda.fit_transform(all_data, true_y)\n",
    "predictions = flda.predict(all_data)\n",
    "df_y = pd.DataFrame(np.concatenate((predictions.reshape(-1, 1), true_y.reshape(-1, 1), z.reshape(-1, 1)),1), columns=[\"predictions\", \"true\", \"z\"])\n",
    "df_y"
   ]
  },
  {
   "cell_type": "markdown",
   "metadata": {},
   "source": [
    "Recommendation distribution"
   ]
  },
  {
   "cell_type": "code",
   "execution_count": 29,
   "metadata": {},
   "outputs": [
    {
     "data": {
      "image/png": "[encoded data removed]",
      "text/plain": [
       "<Figure size 432x288 with 1 Axes>"
      ]
     },
     "metadata": {},
     "output_type": "display_data"
    }
   ],
   "source": [
    "fig, ax = plt.subplots()\n",
    "ax.bar([0,1], [len(df_y[\"true\"]) - np.sum(df_y[\"true\"]), np.sum(df_y[\"true\"])])\n",
    "ax.set_xticks([0, 1])\n",
    "ax.set_xticklabels([\"Not Recommended\", \"Recommended\"])\n",
    "ax.grid(False)"
   ]
  },
  {
   "cell_type": "code",
   "execution_count": 30,
   "metadata": {},
   "outputs": [
    {
     "data": {
      "image/png": "[encoded data removed]",
      "text/plain": [
       "<Figure size 432x288 with 1 Axes>"
      ]
     },
     "metadata": {},
     "output_type": "display_data"
    }
   ],
   "source": [
    "sns.set(style=\"whitegrid\")\n",
    "n_true_recommend = sum(df_y[\"true\"])\n",
    "n_true_preds = sum(df_y[\"predictions\"])\n",
    "n_false_recommend = len(df_y[\"true\"]) - n_true_recommend\n",
    "n_false_preds = len(df_y[\"predictions\"]) - n_true_preds\n",
    "x = np.array([0, 1])\n",
    "\n",
    "width = 0.35  # the width of the bars\n",
    "\n",
    "fig, ax = plt.subplots()\n",
    "rects1 = ax.bar(x - width/2, [n_false_recommend, n_true_recommend], width, label='true')\n",
    "rects2 = ax.bar(x + width/2, [n_false_preds, n_true_preds], width, label='predictions')\n",
    "ax.set_xticks(x)\n",
    "ax.set_xticklabels([\"Not Recommended\", \"Recommended\"])\n",
    "ax.legend()\n",
    "ax.grid(False)"
   ]
  },
  {
   "cell_type": "code",
   "execution_count": 31,
   "metadata": {},
   "outputs": [
    {
     "data": {
      "image/png": "[encoded data removed]",
      "text/plain": [
       "<Figure size 432x288 with 1 Axes>"
      ]
     },
     "metadata": {},
     "output_type": "display_data"
    }
   ],
   "source": [
    "sns.set(style=\"ticks\", color_codes=True)\n",
    "sns.boxplot(x=\"true\", y=\"z\", data=df_y);"
   ]
  },
  {
   "cell_type": "code",
   "execution_count": 16,
   "metadata": {},
   "outputs": [
    {
     "data": {
      "image/png": "[encoded data removed]",
      "text/plain": [
       "<Figure size 432x288 with 1 Axes>"
      ]
     },
     "metadata": {},
     "output_type": "display_data"
    }
   ],
   "source": [
    "sns.set(style=\"ticks\", color_codes=True)\n",
    "sns.boxplot(x=\"predictions\", y=\"z\", data=df_y);"
   ]
  },
  {
   "cell_type": "code",
   "execution_count": 17,
   "metadata": {},
   "outputs": [
    {
     "data": {
      "image/png": "[encoded data removed]",
      "text/plain": [
       "<Figure size 432x288 with 1 Axes>"
      ]
     },
     "metadata": {},
     "output_type": "display_data"
    }
   ],
   "source": [
    "sns.set(style=\"ticks\", color_codes=True)\n",
    "sns.violinplot(x=\"true\", y=\"z\", data=df_y);"
   ]
  },
  {
   "cell_type": "code",
   "execution_count": 18,
   "metadata": {},
   "outputs": [
    {
     "data": {
      "text/plain": [
       "<matplotlib.axes._subplots.AxesSubplot at 0x131d1cc88>"
      ]
     },
     "execution_count": 18,
     "metadata": {},
     "output_type": "execute_result"
    },
    {
     "data": {
      "image/png": "[encoded data removed]",
      "text/plain": [
       "<Figure size 432x288 with 1 Axes>"
      ]
     },
     "metadata": {},
     "output_type": "display_data"
    }
   ],
   "source": [
    "sns.set(style=\"ticks\", color_codes=True)\n",
    "sns.distplot(df_y[\"z\"][df_y[\"true\"] == 1], hist=True, label=\"Recommended\")\n",
    "sns.distplot(df_y[\"z\"][df_y[\"true\"] == 0], hist=True, label=\"Not Recommended\")"
   ]
  },
  {
   "cell_type": "code",
   "execution_count": 19,
   "metadata": {},
   "outputs": [
    {
     "data": {
      "text/plain": [
       "<matplotlib.axes._subplots.AxesSubplot at 0x131050ba8>"
      ]
     },
     "execution_count": 19,
     "metadata": {},
     "output_type": "execute_result"
    },
    {
     "data": {
      "image/png": "[encoded data removed]",
      "text/plain": [
       "<Figure size 432x288 with 1 Axes>"
      ]
     },
     "metadata": {},
     "output_type": "display_data"
    }
   ],
   "source": [
    "sns.set(style=\"ticks\", color_codes=True)\n",
    "sns.kdeplot(df_y[\"z\"][df_y[\"predictions\"] == 1], shade=True, label=\"Recommended\")\n",
    "sns.kdeplot(df_y[\"z\"][df_y[\"predictions\"] == 0], shade=True, label=\"Not Recommended\")"
   ]
  },
  {
   "cell_type": "code",
   "execution_count": 20,
   "metadata": {},
   "outputs": [
    {
     "data": {
      "text/plain": [
       "<matplotlib.axes._subplots.AxesSubplot at 0x131061b38>"
      ]
     },
     "execution_count": 20,
     "metadata": {},
     "output_type": "execute_result"
    },
    {
     "data": {
      "image/png": "[encoded data removed]",
      "text/plain": [
       "<Figure size 432x288 with 1 Axes>"
      ]
     },
     "metadata": {},
     "output_type": "display_data"
    }
   ],
   "source": [
    "y = np.array(df_y[\"predictions\"])\n",
    "arr = np.concatenate((y.reshape([-1, 1]), true_y.reshape([-1, 1])), 1)\n",
    "corrects = [i for i, x in enumerate(arr) if x[0] == x[1]]\n",
    "corrects_pos = [i for i, x in enumerate(arr) if x[0] == x[1] and x[0] == 1]\n",
    "corrects_neg = [i for i, x in enumerate(arr) if x[0] == x[1] and x[0] == 0]\n",
    "sns.set(style=\"ticks\", color_codes=True)\n",
    "sns.kdeplot(df_y[\"z\"][corrects_pos], shade=True, label=\"Recommended\")\n",
    "sns.kdeplot(df_y[\"z\"][corrects_neg], shade=True, label=\"Not Recommended\")"
   ]
  },
  {
   "cell_type": "code",
   "execution_count": 21,
   "metadata": {},
   "outputs": [
    {
     "data": {
      "text/plain": [
       "<matplotlib.axes._subplots.AxesSubplot at 0x1320877f0>"
      ]
     },
     "execution_count": 21,
     "metadata": {},
     "output_type": "execute_result"
    },
    {
     "data": {
      "image/png": "[encoded data removed]",
      "text/plain": [
       "<Figure size 432x288 with 1 Axes>"
      ]
     },
     "metadata": {},
     "output_type": "display_data"
    }
   ],
   "source": [
    "incorrects = [i for i, x in enumerate(arr) if x[0] == x[1]]\n",
    "incorrects_pos = [i for i, x in enumerate(arr) if x[0] != x[1] and x[0] == 1]\n",
    "incorrects_neg = [i for i, x in enumerate(arr) if x[0] != x[1] and x[0] == 0]\n",
    "sns.set(style=\"ticks\", color_codes=True)\n",
    "sns.kdeplot(df_y[\"z\"][incorrects_pos], shade=True, label=\"Recommended\")\n",
    "sns.kdeplot(df_y[\"z\"][incorrects_neg], shade=True, label=\"Not Recommended\")"
   ]
  },
  {
   "cell_type": "code",
   "execution_count": 22,
   "metadata": {},
   "outputs": [
    {
     "data": {
      "text/plain": [
       "<matplotlib.collections.PathCollection at 0x1322fac18>"
      ]
     },
     "execution_count": 22,
     "metadata": {},
     "output_type": "execute_result"
    },
    {
     "data": {
      "image/png": "[encoded data removed]",
      "text/plain": [
       "<Figure size 432x288 with 1 Axes>"
      ]
     },
     "metadata": {},
     "output_type": "display_data"
    }
   ],
   "source": [
    "def rand_jitter(arr):\n",
    "    stdev = .01*(max(arr)-min(arr))\n",
    "    return arr + np.random.randn(len(arr)) * stdev\n",
    "\n",
    "df_y[\"true\"] = np.array([float(x) for x in df_y[\"true\"]])\n",
    "df_y[\"true\"] = rand_jitter(np.array(df_y[\"true\"]))\n",
    "fig = plt.figure()\n",
    "ax = fig.add_subplot(111)\n",
    "ax.scatter(df_y[\"true\"][corrects_pos]+0.1, df_y[\"z\"][corrects_pos], marker=\"o\", s=20, facecolors='none', edgecolors='b')\n",
    "ax.scatter(df_y[\"true\"][corrects_neg]+0.1, df_y[\"z\"][corrects_neg], marker=\"o\", s=20, facecolors='none', edgecolors='b')\n",
    "ax.scatter(df_y[\"true\"][incorrects_pos]-0.1, df_y[\"z\"][incorrects_pos], marker=\"o\", s=20, facecolors='none', edgecolors='r')\n",
    "ax.scatter(df_y[\"true\"][incorrects_neg]-0.1, df_y[\"z\"][incorrects_neg], marker=\"o\", s=20, facecolors='none', edgecolors='r')\n"
   ]
  },
  {
   "cell_type": "code",
   "execution_count": 23,
   "metadata": {},
   "outputs": [
    {
     "data": {
      "text/plain": [
       "<seaborn.axisgrid.FacetGrid at 0x13110ef28>"
      ]
     },
     "execution_count": 23,
     "metadata": {},
     "output_type": "execute_result"
    },
    {
     "data": {
      "image/png": "[encoded data removed]",
      "text/plain": [
       "<Figure size 490.175x432 with 1 Axes>"
      ]
     },
     "metadata": {},
     "output_type": "display_data"
    }
   ],
   "source": [
    "import seaborn as sns\n",
    "df_y = pd.DataFrame(np.concatenate((arr, z.reshape(-1, 1)),1), columns=[\"predictions\", \"true\", \"z\"])\n",
    "sns.set(style=\"whitegrid\")\n",
    "g = sns.catplot(x=\"true\", y=\"z\", hue=\"predictions\", data=df_y,\n",
    "                height=6, kind=\"bar\", palette=\"muted\")\n",
    "g.despine(left=True)\n",
    "g.set_ylabels(\"z\")"
   ]
  },
  {
   "cell_type": "code",
   "execution_count": 24,
   "metadata": {},
   "outputs": [
    {
     "data": {
      "image/png": "[encoded data removed]",
      "text/plain": [
       "<Figure size 432x288 with 1 Axes>"
      ]
     },
     "metadata": {},
     "output_type": "display_data"
    }
   ],
   "source": [
    "import seaborn as sns\n",
    "df_y = pd.DataFrame(np.concatenate((arr, z.reshape(-1, 1)),1), columns=[\"predictions\", \"true\", \"z\"])\n",
    "# sns.set(style=\"whitegrid\")\n",
    "g = sns.boxplot(x=\"true\", y=\"z\", hue=\"predictions\", data=df_y, palette=\"muted\")"
   ]
  },
  {
   "cell_type": "code",
   "execution_count": 25,
   "metadata": {},
   "outputs": [
    {
     "data": {
      "image/png": "[encoded data removed]",
      "text/plain": [
       "<Figure size 432x288 with 1 Axes>"
      ]
     },
     "metadata": {},
     "output_type": "display_data"
    }
   ],
   "source": [
    "g = sns.violinplot(x=\"true\", y=\"z\", hue=\"predictions\", data=df_y, palette=\"muted\")"
   ]
  },
  {
   "cell_type": "code",
   "execution_count": 26,
   "metadata": {},
   "outputs": [
    {
     "data": {
      "text/plain": [
       "<seaborn.axisgrid.FacetGrid at 0x13244d470>"
      ]
     },
     "execution_count": 26,
     "metadata": {},
     "output_type": "execute_result"
    },
    {
     "data": {
      "image/png": "[encoded data removed]",
      "text/plain": [
       "<Figure size 494.675x432 with 1 Axes>"
      ]
     },
     "metadata": {},
     "output_type": "display_data"
    }
   ],
   "source": [
    "import seaborn as sns\n",
    "arr = np.concatenate((y.reshape([-1, 1]), true_y.reshape([-1, 1])), 1)\n",
    "corrects = np.array([0 if x[0] == x[1] else 1 for i, x in enumerate(arr)])\n",
    "recommends = np.array([0 if x[0] == 0 else 1 for i, x in enumerate(arr)])\n",
    "\n",
    "df_y2 = pd.DataFrame(np.concatenate((corrects.reshape(-1, 1), \n",
    "                                    recommends.reshape(-1, 1), \n",
    "                                    z.reshape(-1, 1)),1), \n",
    "                    columns=[\"correct\", \"recommend\", \"z\"])\n",
    "\n",
    "sns.set(style=\"whitegrid\")\n",
    "g = sns.catplot(x=\"correct\", y=\"z\", hue=\"recommend\", data=df_y2,\n",
    "                height=6, kind=\"bar\", palette=\"muted\")\n",
    "g.despine(left=True)\n",
    "g.set_ylabels(\"z\")"
   ]
  },
  {
   "cell_type": "code",
   "execution_count": 27,
   "metadata": {},
   "outputs": [
    {
     "data": {
      "image/png": "[encoded data removed]",
      "text/plain": [
       "<Figure size 432x288 with 1 Axes>"
      ]
     },
     "metadata": {},
     "output_type": "display_data"
    }
   ],
   "source": [
    "g = sns.violinplot(x=\"correct\", y=\"z\", hue=\"recommend\", data=df_y2, palette=\"muted\")"
   ]
  },
  {
   "cell_type": "code",
   "execution_count": 28,
   "metadata": {},
   "outputs": [
    {
     "data": {
      "image/png": "[encoded data removed]",
      "text/plain": [
       "<Figure size 432x288 with 1 Axes>"
      ]
     },
     "metadata": {},
     "output_type": "display_data"
    }
   ],
   "source": [
    "g = sns.boxplot(x=\"correct\", y=\"z\", hue=\"recommend\", data=df_y2, palette=\"muted\")"
   ]
  },
  {
   "cell_type": "code",
   "execution_count": 29,
   "metadata": {},
   "outputs": [
    {
     "data": {
      "text/html": [
       "<div>\n",
       "<style scoped>\n",
       "    .dataframe tbody tr th:only-of-type {\n",
       "        vertical-align: middle;\n",
       "    }\n",
       "\n",
       "    .dataframe tbody tr th {\n",
       "        vertical-align: top;\n",
       "    }\n",
       "\n",
       "    .dataframe thead th {\n",
       "        text-align: right;\n",
       "    }\n",
       "</style>\n",
       "<table border=\"1\" class=\"dataframe\">\n",
       "  <thead>\n",
       "    <tr style=\"text-align: right;\">\n",
       "      <th></th>\n",
       "      <th>coef</th>\n",
       "      <th>feature_name</th>\n",
       "    </tr>\n",
       "  </thead>\n",
       "  <tbody>\n",
       "    <tr>\n",
       "      <td>0</td>\n",
       "      <td>0.47277508601129214</td>\n",
       "      <td>10</td>\n",
       "    </tr>\n",
       "    <tr>\n",
       "      <td>1</td>\n",
       "      <td>0.26462675821729686</td>\n",
       "      <td>100</td>\n",
       "    </tr>\n",
       "    <tr>\n",
       "      <td>2</td>\n",
       "      <td>0.8248990807346548</td>\n",
       "      <td>11</td>\n",
       "    </tr>\n",
       "    <tr>\n",
       "      <td>3</td>\n",
       "      <td>0.32357043219031123</td>\n",
       "      <td>12</td>\n",
       "    </tr>\n",
       "    <tr>\n",
       "      <td>4</td>\n",
       "      <td>-0.30079135289691816</td>\n",
       "      <td>15</td>\n",
       "    </tr>\n",
       "    <tr>\n",
       "      <td>...</td>\n",
       "      <td>...</td>\n",
       "      <td>...</td>\n",
       "    </tr>\n",
       "    <tr>\n",
       "      <td>995</td>\n",
       "      <td>0.3922826430401178</td>\n",
       "      <td>youtube</td>\n",
       "    </tr>\n",
       "    <tr>\n",
       "      <td>996</td>\n",
       "      <td>-0.028357756426357433</td>\n",
       "      <td>zombie</td>\n",
       "    </tr>\n",
       "    <tr>\n",
       "      <td>997</td>\n",
       "      <td>-0.4089718605122219</td>\n",
       "      <td>zombies</td>\n",
       "    </tr>\n",
       "    <tr>\n",
       "      <td>998</td>\n",
       "      <td>1.365747508589017</td>\n",
       "      <td>สน</td>\n",
       "    </tr>\n",
       "    <tr>\n",
       "      <td>999</td>\n",
       "      <td>0.6299411882384849</td>\n",
       "      <td>เล</td>\n",
       "    </tr>\n",
       "  </tbody>\n",
       "</table>\n",
       "<p>1000 rows × 2 columns</p>\n",
       "</div>"
      ],
      "text/plain": [
       "                      coef feature_name\n",
       "0      0.47277508601129214           10\n",
       "1      0.26462675821729686          100\n",
       "2       0.8248990807346548           11\n",
       "3      0.32357043219031123           12\n",
       "4     -0.30079135289691816           15\n",
       "..                     ...          ...\n",
       "995     0.3922826430401178      youtube\n",
       "996  -0.028357756426357433       zombie\n",
       "997    -0.4089718605122219      zombies\n",
       "998      1.365747508589017           สน\n",
       "999     0.6299411882384849           เล\n",
       "\n",
       "[1000 rows x 2 columns]"
      ]
     },
     "execution_count": 29,
     "metadata": {},
     "output_type": "execute_result"
    }
   ],
   "source": [
    "tfidf_feature_names = np.array(tfidf_vectorizer.get_feature_names()).reshape([-1, 1])\n",
    "coefs = flda.coef_.reshape([-1, 1])\n",
    "coefs = pd.DataFrame(np.concatenate((coefs, tfidf_feature_names), 1), columns=[\"coef\", \"feature_name\"])\n",
    "coefs"
   ]
  },
  {
   "cell_type": "code",
   "execution_count": 45,
   "metadata": {},
   "outputs": [
    {
     "data": {
      "text/html": [
       "<div>\n",
       "<style scoped>\n",
       "    .dataframe tbody tr th:only-of-type {\n",
       "        vertical-align: middle;\n",
       "    }\n",
       "\n",
       "    .dataframe tbody tr th {\n",
       "        vertical-align: top;\n",
       "    }\n",
       "\n",
       "    .dataframe thead th {\n",
       "        text-align: right;\n",
       "    }\n",
       "</style>\n",
       "<table border=\"1\" class=\"dataframe\">\n",
       "  <thead>\n",
       "    <tr style=\"text-align: right;\">\n",
       "      <th></th>\n",
       "      <th>coef</th>\n",
       "      <th>feature_name</th>\n",
       "    </tr>\n",
       "  </thead>\n",
       "  <tbody>\n",
       "    <tr>\n",
       "      <td>852</td>\n",
       "      <td>-4.445684</td>\n",
       "      <td>sucks</td>\n",
       "    </tr>\n",
       "    <tr>\n",
       "      <td>730</td>\n",
       "      <td>-3.891794</td>\n",
       "      <td>refund</td>\n",
       "    </tr>\n",
       "    <tr>\n",
       "      <td>873</td>\n",
       "      <td>-3.779938</td>\n",
       "      <td>terrible</td>\n",
       "    </tr>\n",
       "    <tr>\n",
       "      <td>634</td>\n",
       "      <td>-3.667325</td>\n",
       "      <td>overkill</td>\n",
       "    </tr>\n",
       "    <tr>\n",
       "      <td>982</td>\n",
       "      <td>-3.605690</td>\n",
       "      <td>worst</td>\n",
       "    </tr>\n",
       "    <tr>\n",
       "      <td>957</td>\n",
       "      <td>-3.178687</td>\n",
       "      <td>waste</td>\n",
       "    </tr>\n",
       "    <tr>\n",
       "      <td>189</td>\n",
       "      <td>-3.021977</td>\n",
       "      <td>crap</td>\n",
       "    </tr>\n",
       "    <tr>\n",
       "      <td>101</td>\n",
       "      <td>-2.785128</td>\n",
       "      <td>boring</td>\n",
       "    </tr>\n",
       "    <tr>\n",
       "      <td>437</td>\n",
       "      <td>-2.684140</td>\n",
       "      <td>horrible</td>\n",
       "    </tr>\n",
       "    <tr>\n",
       "      <td>918</td>\n",
       "      <td>-2.428833</td>\n",
       "      <td>unless</td>\n",
       "    </tr>\n",
       "    <tr>\n",
       "      <td>676</td>\n",
       "      <td>-2.421171</td>\n",
       "      <td>poor</td>\n",
       "    </tr>\n",
       "    <tr>\n",
       "      <td>285</td>\n",
       "      <td>-2.380712</td>\n",
       "      <td>est</td>\n",
       "    </tr>\n",
       "    <tr>\n",
       "      <td>660</td>\n",
       "      <td>-2.219602</td>\n",
       "      <td>piece</td>\n",
       "    </tr>\n",
       "    <tr>\n",
       "      <td>131</td>\n",
       "      <td>-2.175769</td>\n",
       "      <td>cash</td>\n",
       "    </tr>\n",
       "    <tr>\n",
       "      <td>572</td>\n",
       "      <td>-2.008139</td>\n",
       "      <td>microtransactions</td>\n",
       "    </tr>\n",
       "    <tr>\n",
       "      <td>191</td>\n",
       "      <td>-1.923487</td>\n",
       "      <td>crashes</td>\n",
       "    </tr>\n",
       "    <tr>\n",
       "      <td>15</td>\n",
       "      <td>-1.918777</td>\n",
       "      <td>absolute</td>\n",
       "    </tr>\n",
       "    <tr>\n",
       "      <td>192</td>\n",
       "      <td>-1.914437</td>\n",
       "      <td>crashing</td>\n",
       "    </tr>\n",
       "    <tr>\n",
       "      <td>109</td>\n",
       "      <td>-1.907403</td>\n",
       "      <td>broken</td>\n",
       "    </tr>\n",
       "    <tr>\n",
       "      <td>397</td>\n",
       "      <td>-1.897984</td>\n",
       "      <td>hackers</td>\n",
       "    </tr>\n",
       "  </tbody>\n",
       "</table>\n",
       "</div>"
      ],
      "text/plain": [
       "         coef       feature_name\n",
       "852 -4.445684              sucks\n",
       "730 -3.891794             refund\n",
       "873 -3.779938           terrible\n",
       "634 -3.667325           overkill\n",
       "982 -3.605690              worst\n",
       "957 -3.178687              waste\n",
       "189 -3.021977               crap\n",
       "101 -2.785128             boring\n",
       "437 -2.684140           horrible\n",
       "918 -2.428833             unless\n",
       "676 -2.421171               poor\n",
       "285 -2.380712                est\n",
       "660 -2.219602              piece\n",
       "131 -2.175769               cash\n",
       "572 -2.008139  microtransactions\n",
       "191 -1.923487            crashes\n",
       "15  -1.918777           absolute\n",
       "192 -1.914437           crashing\n",
       "109 -1.907403             broken\n",
       "397 -1.897984            hackers"
      ]
     },
     "execution_count": 45,
     "metadata": {},
     "output_type": "execute_result"
    }
   ],
   "source": [
    "coefs[\"coef\"] = np.array(coefs[\"coef\"], dtype=np.float32)\n",
    "coefs = coefs.sort_values(by=['coef'])\n",
    "coefs[:20]"
   ]
  },
  {
   "cell_type": "code",
   "execution_count": 47,
   "metadata": {},
   "outputs": [
    {
     "data": {
      "text/html": [
       "<div>\n",
       "<style scoped>\n",
       "    .dataframe tbody tr th:only-of-type {\n",
       "        vertical-align: middle;\n",
       "    }\n",
       "\n",
       "    .dataframe tbody tr th {\n",
       "        vertical-align: top;\n",
       "    }\n",
       "\n",
       "    .dataframe thead th {\n",
       "        text-align: right;\n",
       "    }\n",
       "</style>\n",
       "<table border=\"1\" class=\"dataframe\">\n",
       "  <thead>\n",
       "    <tr style=\"text-align: right;\">\n",
       "      <th></th>\n",
       "      <th>coef</th>\n",
       "      <th>feature_name</th>\n",
       "    </tr>\n",
       "  </thead>\n",
       "  <tbody>\n",
       "    <tr>\n",
       "      <td>998</td>\n",
       "      <td>1.365747</td>\n",
       "      <td>สน</td>\n",
       "    </tr>\n",
       "    <tr>\n",
       "      <td>793</td>\n",
       "      <td>1.298771</td>\n",
       "      <td>sick</td>\n",
       "    </tr>\n",
       "    <tr>\n",
       "      <td>417</td>\n",
       "      <td>1.264542</td>\n",
       "      <td>hear</td>\n",
       "    </tr>\n",
       "    <tr>\n",
       "      <td>846</td>\n",
       "      <td>1.259757</td>\n",
       "      <td>strong</td>\n",
       "    </tr>\n",
       "    <tr>\n",
       "      <td>468</td>\n",
       "      <td>1.251611</td>\n",
       "      <td>jeu</td>\n",
       "    </tr>\n",
       "    <tr>\n",
       "      <td>326</td>\n",
       "      <td>1.240116</td>\n",
       "      <td>finally</td>\n",
       "    </tr>\n",
       "    <tr>\n",
       "      <td>734</td>\n",
       "      <td>1.189054</td>\n",
       "      <td>remember</td>\n",
       "    </tr>\n",
       "    <tr>\n",
       "      <td>71</td>\n",
       "      <td>1.146488</td>\n",
       "      <td>awsome</td>\n",
       "    </tr>\n",
       "    <tr>\n",
       "      <td>757</td>\n",
       "      <td>1.102053</td>\n",
       "      <td>satisfying</td>\n",
       "    </tr>\n",
       "    <tr>\n",
       "      <td>176</td>\n",
       "      <td>1.100684</td>\n",
       "      <td>continue</td>\n",
       "    </tr>\n",
       "    <tr>\n",
       "      <td>569</td>\n",
       "      <td>1.099392</td>\n",
       "      <td>melhor</td>\n",
       "    </tr>\n",
       "    <tr>\n",
       "      <td>344</td>\n",
       "      <td>1.077885</td>\n",
       "      <td>friendly</td>\n",
       "    </tr>\n",
       "    <tr>\n",
       "      <td>448</td>\n",
       "      <td>1.073750</td>\n",
       "      <td>improved</td>\n",
       "    </tr>\n",
       "    <tr>\n",
       "      <td>70</td>\n",
       "      <td>1.072776</td>\n",
       "      <td>awesome</td>\n",
       "    </tr>\n",
       "    <tr>\n",
       "      <td>821</td>\n",
       "      <td>1.067055</td>\n",
       "      <td>source</td>\n",
       "    </tr>\n",
       "    <tr>\n",
       "      <td>391</td>\n",
       "      <td>1.060128</td>\n",
       "      <td>gud</td>\n",
       "    </tr>\n",
       "    <tr>\n",
       "      <td>463</td>\n",
       "      <td>1.054352</td>\n",
       "      <td>issue</td>\n",
       "    </tr>\n",
       "    <tr>\n",
       "      <td>428</td>\n",
       "      <td>1.030130</td>\n",
       "      <td>hilarious</td>\n",
       "    </tr>\n",
       "    <tr>\n",
       "      <td>108</td>\n",
       "      <td>1.025696</td>\n",
       "      <td>brings</td>\n",
       "    </tr>\n",
       "    <tr>\n",
       "      <td>779</td>\n",
       "      <td>0.990580</td>\n",
       "      <td>set</td>\n",
       "    </tr>\n",
       "  </tbody>\n",
       "</table>\n",
       "</div>"
      ],
      "text/plain": [
       "         coef feature_name\n",
       "998  1.365747           สน\n",
       "793  1.298771         sick\n",
       "417  1.264542         hear\n",
       "846  1.259757       strong\n",
       "468  1.251611          jeu\n",
       "326  1.240116      finally\n",
       "734  1.189054     remember\n",
       "71   1.146488       awsome\n",
       "757  1.102053   satisfying\n",
       "176  1.100684     continue\n",
       "569  1.099392       melhor\n",
       "344  1.077885     friendly\n",
       "448  1.073750     improved\n",
       "70   1.072776      awesome\n",
       "821  1.067055       source\n",
       "391  1.060128          gud\n",
       "463  1.054352        issue\n",
       "428  1.030130    hilarious\n",
       "108  1.025696       brings\n",
       "779  0.990580          set"
      ]
     },
     "execution_count": 47,
     "metadata": {},
     "output_type": "execute_result"
    }
   ],
   "source": [
    "coefs = coefs.sort_values(by=['coef'], ascending=False)\n",
    "coefs[:20]"
   ]
  },
  {
   "cell_type": "code",
   "execution_count": 31,
   "metadata": {},
   "outputs": [
    {
     "data": {
      "text/html": [
       "<div>\n",
       "<style scoped>\n",
       "    .dataframe tbody tr th:only-of-type {\n",
       "        vertical-align: middle;\n",
       "    }\n",
       "\n",
       "    .dataframe tbody tr th {\n",
       "        vertical-align: top;\n",
       "    }\n",
       "\n",
       "    .dataframe thead th {\n",
       "        text-align: right;\n",
       "    }\n",
       "</style>\n",
       "<table border=\"1\" class=\"dataframe\">\n",
       "  <thead>\n",
       "    <tr style=\"text-align: right;\">\n",
       "      <th></th>\n",
       "      <th>bad_reference</th>\n",
       "      <th>good_reference</th>\n",
       "      <th>feature_name</th>\n",
       "    </tr>\n",
       "  </thead>\n",
       "  <tbody>\n",
       "    <tr>\n",
       "      <td>176</td>\n",
       "      <td>1.370214</td>\n",
       "      <td>0.0028099754127151387</td>\n",
       "      <td>continue</td>\n",
       "    </tr>\n",
       "    <tr>\n",
       "      <td>676</td>\n",
       "      <td>0.966585</td>\n",
       "      <td>0.005321933344965974</td>\n",
       "      <td>poor</td>\n",
       "    </tr>\n",
       "    <tr>\n",
       "      <td>238</td>\n",
       "      <td>0.253600</td>\n",
       "      <td>0.007024938531787847</td>\n",
       "      <td>divertido</td>\n",
       "    </tr>\n",
       "    <tr>\n",
       "      <td>500</td>\n",
       "      <td>0.249564</td>\n",
       "      <td>0.012476007677543186</td>\n",
       "      <td>leave</td>\n",
       "    </tr>\n",
       "    <tr>\n",
       "      <td>332</td>\n",
       "      <td>0.241658</td>\n",
       "      <td>0.0091324200913242</td>\n",
       "      <td>fixed</td>\n",
       "    </tr>\n",
       "    <tr>\n",
       "      <td>255</td>\n",
       "      <td>0.239550</td>\n",
       "      <td>0.00597119775201967</td>\n",
       "      <td>dying</td>\n",
       "    </tr>\n",
       "    <tr>\n",
       "      <td>690</td>\n",
       "      <td>0.177630</td>\n",
       "      <td>0.03638108532542314</td>\n",
       "      <td>probably</td>\n",
       "    </tr>\n",
       "    <tr>\n",
       "      <td>674</td>\n",
       "      <td>0.171523</td>\n",
       "      <td>0.008855348106787645</td>\n",
       "      <td>point</td>\n",
       "    </tr>\n",
       "    <tr>\n",
       "      <td>832</td>\n",
       "      <td>0.168470</td>\n",
       "      <td>0.0022683650322805793</td>\n",
       "      <td>starting</td>\n",
       "    </tr>\n",
       "    <tr>\n",
       "      <td>755</td>\n",
       "      <td>0.160269</td>\n",
       "      <td>0.0047984644913627635</td>\n",
       "      <td>sale</td>\n",
       "    </tr>\n",
       "    <tr>\n",
       "      <td>190</td>\n",
       "      <td>0.149982</td>\n",
       "      <td>0.0684931506849315</td>\n",
       "      <td>crash</td>\n",
       "    </tr>\n",
       "    <tr>\n",
       "      <td>304</td>\n",
       "      <td>0.136284</td>\n",
       "      <td>0.022128556375131718</td>\n",
       "      <td>face</td>\n",
       "    </tr>\n",
       "    <tr>\n",
       "      <td>361</td>\n",
       "      <td>0.128205</td>\n",
       "      <td>0.02985598876009835</td>\n",
       "      <td>gear</td>\n",
       "    </tr>\n",
       "    <tr>\n",
       "      <td>0</td>\n",
       "      <td>0.127854</td>\n",
       "      <td>0.01685985247629083</td>\n",
       "      <td>10</td>\n",
       "    </tr>\n",
       "    <tr>\n",
       "      <td>60</td>\n",
       "      <td>0.125746</td>\n",
       "      <td>0.0228310502283105</td>\n",
       "      <td>aside</td>\n",
       "    </tr>\n",
       "    <tr>\n",
       "      <td>738</td>\n",
       "      <td>0.116646</td>\n",
       "      <td>0.0035770371662886056</td>\n",
       "      <td>rest</td>\n",
       "    </tr>\n",
       "    <tr>\n",
       "      <td>174</td>\n",
       "      <td>0.114155</td>\n",
       "      <td>0.006322444678609062</td>\n",
       "      <td>constantly</td>\n",
       "    </tr>\n",
       "    <tr>\n",
       "      <td>861</td>\n",
       "      <td>0.103298</td>\n",
       "      <td>0.008724480893386843</td>\n",
       "      <td>takes</td>\n",
       "    </tr>\n",
       "    <tr>\n",
       "      <td>704</td>\n",
       "      <td>0.090778</td>\n",
       "      <td>0.006979584714709474</td>\n",
       "      <td>quickly</td>\n",
       "    </tr>\n",
       "    <tr>\n",
       "      <td>36</td>\n",
       "      <td>0.083597</td>\n",
       "      <td>0.007727432384966632</td>\n",
       "      <td>ai</td>\n",
       "    </tr>\n",
       "  </tbody>\n",
       "</table>\n",
       "</div>"
      ],
      "text/plain": [
       "     bad_reference         good_reference feature_name\n",
       "176       1.370214  0.0028099754127151387     continue\n",
       "676       0.966585   0.005321933344965974         poor\n",
       "238       0.253600   0.007024938531787847    divertido\n",
       "500       0.249564   0.012476007677543186        leave\n",
       "332       0.241658     0.0091324200913242        fixed\n",
       "255       0.239550    0.00597119775201967        dying\n",
       "690       0.177630    0.03638108532542314     probably\n",
       "674       0.171523   0.008855348106787645        point\n",
       "832       0.168470  0.0022683650322805793     starting\n",
       "755       0.160269  0.0047984644913627635         sale\n",
       "190       0.149982     0.0684931506849315        crash\n",
       "304       0.136284   0.022128556375131718         face\n",
       "361       0.128205    0.02985598876009835         gear\n",
       "0         0.127854    0.01685985247629083           10\n",
       "60        0.125746     0.0228310502283105        aside\n",
       "738       0.116646  0.0035770371662886056         rest\n",
       "174       0.114155   0.006322444678609062   constantly\n",
       "861       0.103298   0.008724480893386843        takes\n",
       "704       0.090778   0.006979584714709474      quickly\n",
       "36        0.083597   0.007727432384966632           ai"
      ]
     },
     "execution_count": 31,
     "metadata": {},
     "output_type": "execute_result"
    }
   ],
   "source": [
    "means = flda.means_\n",
    "means_df = pd.DataFrame(np.concatenate((means.reshape([n_features, -1]), tfidf_feature_names), 1),\n",
    "                        columns=[\"bad_reference\", \"good_reference\", \"feature_name\"])\n",
    "\n",
    "means_df[\"bad_reference\"] = np.array(means_df[\"bad_reference\"], dtype=np.float32)\n",
    "means_df = means_df.sort_values(by=['bad_reference'], ascending=False)\n",
    "means_df[:n_top_words]"
   ]
  },
  {
   "cell_type": "code",
   "execution_count": 32,
   "metadata": {},
   "outputs": [
    {
     "data": {
      "text/html": [
       "<div>\n",
       "<style scoped>\n",
       "    .dataframe tbody tr th:only-of-type {\n",
       "        vertical-align: middle;\n",
       "    }\n",
       "\n",
       "    .dataframe tbody tr th {\n",
       "        vertical-align: top;\n",
       "    }\n",
       "\n",
       "    .dataframe thead th {\n",
       "        text-align: right;\n",
       "    }\n",
       "</style>\n",
       "<table border=\"1\" class=\"dataframe\">\n",
       "  <thead>\n",
       "    <tr style=\"text-align: right;\">\n",
       "      <th></th>\n",
       "      <th>bad_reference</th>\n",
       "      <th>good_reference</th>\n",
       "      <th>feature_name</th>\n",
       "    </tr>\n",
       "  </thead>\n",
       "  <tbody>\n",
       "    <tr>\n",
       "      <td>692</td>\n",
       "      <td>0.037733</td>\n",
       "      <td>0.162799</td>\n",
       "      <td>problems</td>\n",
       "    </tr>\n",
       "    <tr>\n",
       "      <td>442</td>\n",
       "      <td>0.009835</td>\n",
       "      <td>0.139796</td>\n",
       "      <td>huge</td>\n",
       "    </tr>\n",
       "    <tr>\n",
       "      <td>122</td>\n",
       "      <td>0.012645</td>\n",
       "      <td>0.128205</td>\n",
       "      <td>called</td>\n",
       "    </tr>\n",
       "    <tr>\n",
       "      <td>119</td>\n",
       "      <td>0.001054</td>\n",
       "      <td>0.127151</td>\n",
       "      <td>button</td>\n",
       "    </tr>\n",
       "    <tr>\n",
       "      <td>178</td>\n",
       "      <td>0.005620</td>\n",
       "      <td>0.111697</td>\n",
       "      <td>controller</td>\n",
       "    </tr>\n",
       "    <tr>\n",
       "      <td>544</td>\n",
       "      <td>0.005322</td>\n",
       "      <td>0.109798</td>\n",
       "      <td>main</td>\n",
       "    </tr>\n",
       "    <tr>\n",
       "      <td>294</td>\n",
       "      <td>0.003512</td>\n",
       "      <td>0.107130</td>\n",
       "      <td>exciting</td>\n",
       "    </tr>\n",
       "    <tr>\n",
       "      <td>678</td>\n",
       "      <td>0.003795</td>\n",
       "      <td>0.099895</td>\n",
       "      <td>port</td>\n",
       "    </tr>\n",
       "    <tr>\n",
       "      <td>460</td>\n",
       "      <td>0.007376</td>\n",
       "      <td>0.099403</td>\n",
       "      <td>island</td>\n",
       "    </tr>\n",
       "    <tr>\n",
       "      <td>324</td>\n",
       "      <td>0.038637</td>\n",
       "      <td>0.096242</td>\n",
       "      <td>fighting</td>\n",
       "    </tr>\n",
       "    <tr>\n",
       "      <td>334</td>\n",
       "      <td>0.060414</td>\n",
       "      <td>0.095890</td>\n",
       "      <td>food</td>\n",
       "    </tr>\n",
       "    <tr>\n",
       "      <td>475</td>\n",
       "      <td>0.004566</td>\n",
       "      <td>0.089568</td>\n",
       "      <td>jump</td>\n",
       "    </tr>\n",
       "    <tr>\n",
       "      <td>273</td>\n",
       "      <td>0.006674</td>\n",
       "      <td>0.085353</td>\n",
       "      <td>engine</td>\n",
       "    </tr>\n",
       "    <tr>\n",
       "      <td>942</td>\n",
       "      <td>0.003359</td>\n",
       "      <td>0.084322</td>\n",
       "      <td>voice</td>\n",
       "    </tr>\n",
       "    <tr>\n",
       "      <td>45</td>\n",
       "      <td>0.015104</td>\n",
       "      <td>0.078328</td>\n",
       "      <td>amazing</td>\n",
       "    </tr>\n",
       "    <tr>\n",
       "      <td>192</td>\n",
       "      <td>0.042852</td>\n",
       "      <td>0.072708</td>\n",
       "      <td>crashing</td>\n",
       "    </tr>\n",
       "    <tr>\n",
       "      <td>226</td>\n",
       "      <td>0.002107</td>\n",
       "      <td>0.072357</td>\n",
       "      <td>developers</td>\n",
       "    </tr>\n",
       "    <tr>\n",
       "      <td>768</td>\n",
       "      <td>0.014701</td>\n",
       "      <td>0.070756</td>\n",
       "      <td>second</td>\n",
       "    </tr>\n",
       "    <tr>\n",
       "      <td>522</td>\n",
       "      <td>0.004493</td>\n",
       "      <td>0.070756</td>\n",
       "      <td>load</td>\n",
       "    </tr>\n",
       "    <tr>\n",
       "      <td>190</td>\n",
       "      <td>0.149982</td>\n",
       "      <td>0.068493</td>\n",
       "      <td>crash</td>\n",
       "    </tr>\n",
       "  </tbody>\n",
       "</table>\n",
       "</div>"
      ],
      "text/plain": [
       "     bad_reference  good_reference feature_name\n",
       "692       0.037733        0.162799     problems\n",
       "442       0.009835        0.139796         huge\n",
       "122       0.012645        0.128205       called\n",
       "119       0.001054        0.127151       button\n",
       "178       0.005620        0.111697   controller\n",
       "544       0.005322        0.109798         main\n",
       "294       0.003512        0.107130     exciting\n",
       "678       0.003795        0.099895         port\n",
       "460       0.007376        0.099403       island\n",
       "324       0.038637        0.096242     fighting\n",
       "334       0.060414        0.095890         food\n",
       "475       0.004566        0.089568         jump\n",
       "273       0.006674        0.085353       engine\n",
       "942       0.003359        0.084322        voice\n",
       "45        0.015104        0.078328      amazing\n",
       "192       0.042852        0.072708     crashing\n",
       "226       0.002107        0.072357   developers\n",
       "768       0.014701        0.070756       second\n",
       "522       0.004493        0.070756         load\n",
       "190       0.149982        0.068493        crash"
      ]
     },
     "execution_count": 32,
     "metadata": {},
     "output_type": "execute_result"
    }
   ],
   "source": [
    "means_df[\"good_reference\"] = np.array(means_df[\"good_reference\"], dtype=np.float32)\n",
    "means_df = means_df.sort_values(by=['good_reference'], ascending=False)\n",
    "means_df[:n_top_words]"
   ]
  },
  {
   "cell_type": "code",
   "execution_count": null,
   "metadata": {},
   "outputs": [
    {
     "name": "stdout",
     "output_type": "stream",
     "text": [
      "CV: 1/3\n",
      "(19768,)\n",
      "(39537,)\n",
      "CV: 2/3\n",
      "(19768,)\n",
      "(39537,)\n",
      "CV: 3/3\n",
      "(19768,)\n",
      "(39537,)\n",
      "CV: 1/3\n",
      "(19768,)\n",
      "(39537,)\n",
      "CV: 2/3\n"
     ]
    }
   ],
   "source": [
    "model = LinearDiscriminantAnalysis\n",
    "models_100_lda, train_accuracies_100_lda, valid_accuracies_100_lda, \\\n",
    "    train_arr_100_lda, valid_arr_100_lda  = lda_cv(model, data_samples, true_y, \n",
    "                                                   n_features=100, cv=3, verbose=1, smote=True)\n",
    "models_500_lda, train_accuracies_500_lda, valid_accuracies_500_lda, \\\n",
    "    train_arr_500_lda, valid_arr_500_lda  = lda_cv(model, data_samples, true_y, \n",
    "                                                   n_features=500, cv=3, verbose=1, smote=True)\n",
    "models_1000_lda, train_accuracies_1000_lda, valid_accuracies_1000_lda, \\\n",
    "    train_arr_1000_lda, valid_arr_1000_lda  = lda_cv(model, data_samples, true_y, \n",
    "                                                   n_features=1000, cv=3, verbose=1, smote=True)\n",
    "models_2000_lda, train_accuracies_2000_lda, valid_accuracies_2000_lda, \\\n",
    "    train_arr_2000_lda, valid_arr_2000_lda  = lda_cv(model, data_samples, true_y, \n",
    "                                                   n_features=2000, cv=3, verbose=1, smote=True)\n",
    "#models_5000_lda, train_accuracies_5000_lda, valid_accuracies_5000_lda, \\\n",
    "#    train_arr_5000_lda, valid_arr_5000_lda  = lda_cv(model, data_samples, true_y, \n",
    "#                                                   n_features=5000, cv=3, verbose=1, smote=True)\n",
    "#models_10000_lda, train_accuracies_10000_lda, valid_accuracies_10000_lda, \\\n",
    "#    train_arr_10000_lda, valid_arr_10000_lda  = lda_cv(model, data_samples, true_y, \n",
    "#                                                   n_features=10000, cv=3, verbose=1, smote=True)\n"
   ]
  },
  {
   "cell_type": "code",
   "execution_count": 60,
   "metadata": {},
   "outputs": [],
   "source": [
    "zeros = np.zeros(len(train_accuracies_1000_lda), dtype=np.int)\n",
    "ones = np.ones(len(train_accuracies_1000_lda), dtype=np.int)\n",
    "zeros_ones = np.concatenate((zeros, ones), 0).reshape([-1, 1])\n",
    "zeros_ones.shape\n",
    "ones1 = np.ones(len(zeros_ones), dtype=np.int).reshape([-1, 1])"
   ]
  },
  {
   "cell_type": "code",
   "execution_count": 69,
   "metadata": {},
   "outputs": [],
   "source": [
    "accuracies_100_lda = np.concatenate((np.array(train_accuracies_100_lda).reshape([-1, 1]), \n",
    "                                  np.array(valid_accuracies_100_lda).reshape([-1, 1])), 0)\n",
    "accuracies_100_lda = np.concatenate((zeros_ones, ones1 * 100, accuracies_100_lda), 1)\n",
    "accuracies_500_lda = np.concatenate((np.array(train_accuracies_500_lda).reshape([-1, 1]), \n",
    "                                  np.array(valid_accuracies_500_lda).reshape([-1, 1])), 0)\n",
    "accuracies_500_lda = np.concatenate((zeros_ones, ones1 * 500, accuracies_500_lda), 1)\n",
    "accuracies_1000_lda = np.concatenate((np.array(train_accuracies_1000_lda).reshape([-1, 1]), \n",
    "                                  np.array(valid_accuracies_1000_lda).reshape([-1, 1])), 0)\n",
    "accuracies_1000_lda = np.concatenate((zeros_ones, ones1 * 1000, accuracies_1000_lda), 1)\n",
    "\n",
    "accuracies_2000_lda = np.concatenate((np.array(train_accuracies_2000_lda).reshape([-1, 1]), \n",
    "                                  np.array(valid_accuracies_2000_lda).reshape([-1, 1])), 0)\n",
    "accuracies_2000_lda = np.concatenate((zeros_ones, ones1 * 2000, accuracies_2000_lda), 1)\n",
    "\n",
    "accuracies_5000_lda = np.concatenate((np.array(train_accuracies_5000_lda).reshape([-1, 1]), \n",
    "                                  np.array(valid_accuracies_5000_lda).reshape([-1, 1])), 0)\n",
    "accuracies_5000_lda = np.concatenate((zeros_ones, ones1 * 5000, accuracies_5000_lda), 1)\n",
    "\n",
    "accuracies_10000_lda = np.concatenate((np.array(train_accuracies_10000_lda).reshape([-1, 1]), \n",
    "                                  np.array(valid_accuracies_10000_lda).reshape([-1, 1])), 0)\n",
    "accuracies_10000_lda = np.concatenate((zeros_ones, ones1 * 10000, accuracies_10000_lda), 1)\n",
    "\n",
    "\n",
    "accuracies_lda = np.concatenate((accuracies_100_lda, \n",
    "                             accuracies_500_lda, \n",
    "                             accuracies_1000_lda, \n",
    "                             accuracies_2000_lda,\n",
    "                             accuracies_5000_lda,\n",
    "                             accuracies_10000_lda\n",
    "                                ), 0)\n",
    "accuracies_lda = pd.DataFrame(accuracies_lda, columns=[\"valid\", \"group\", \"acc\"])"
   ]
  },
  {
   "cell_type": "code",
   "execution_count": 70,
   "metadata": {},
   "outputs": [
    {
     "data": {
      "image/png": "[encoded data removed]",
      "text/plain": [
       "<Figure size 648x432 with 1 Axes>"
      ]
     },
     "metadata": {
      "needs_background": "light"
     },
     "output_type": "display_data"
    }
   ],
   "source": [
    "from matplotlib import pyplot\n",
    "fig, ax = pyplot.subplots(figsize=[9, 6])\n",
    "g = sns.violinplot(x=\"group\", y=\"acc\", \n",
    "                   hue=\"valid\", data=accuracies_lda, \n",
    "                   palette=\"muted\")\n",
    "plt.show()"
   ]
  },
  {
   "cell_type": "code",
   "execution_count": null,
   "metadata": {},
   "outputs": [],
   "source": [
    "valid_arr_1000_lda = np.concatenate((valid_arr_1000_lda))\n",
    "heatconmat(valid_arr_1000_lda[:,0], valid_arr_1000_lda[:,1])"
   ]
  },
  {
   "cell_type": "raw",
   "metadata": {},
   "source": [
    "flda_smote = LinearDiscriminantAnalysis(n_components=1, tol=0.1)\n",
    "t0 = time()\n",
    "flda_smote.fit(X_res, y_res)\n",
    "print(\"done in %0.3fs.\" % (time() - t0))"
   ]
  },
  {
   "cell_type": "code",
   "execution_count": 35,
   "metadata": {},
   "outputs": [
    {
     "name": "stdout",
     "output_type": "stream",
     "text": [
      "37367 / 45848 0.8150191938579654\n"
     ]
    }
   ],
   "source": [
    "predict_y = flda_smote.predict(X_res)\n",
    "arr = np.concatenate((predict_y.reshape([-1, 1]), y_res.reshape([-1, 1])), 1)\n",
    "\n",
    "total = len(arr)\n",
    "corrects = [i for i, x in enumerate(arr) if x[0] == x[1]]\n",
    "print(len(corrects), \"/\", total, len(corrects)/total)"
   ]
  },
  {
   "cell_type": "code",
   "execution_count": 36,
   "metadata": {},
   "outputs": [
    {
     "data": {
      "text/html": [
       "<div>\n",
       "<style scoped>\n",
       "    .dataframe tbody tr th:only-of-type {\n",
       "        vertical-align: middle;\n",
       "    }\n",
       "\n",
       "    .dataframe tbody tr th {\n",
       "        vertical-align: top;\n",
       "    }\n",
       "\n",
       "    .dataframe thead th {\n",
       "        text-align: right;\n",
       "    }\n",
       "</style>\n",
       "<table border=\"1\" class=\"dataframe\">\n",
       "  <thead>\n",
       "    <tr style=\"text-align: right;\">\n",
       "      <th></th>\n",
       "      <th>predictions</th>\n",
       "      <th>true</th>\n",
       "      <th>z</th>\n",
       "    </tr>\n",
       "  </thead>\n",
       "  <tbody>\n",
       "    <tr>\n",
       "      <td>0</td>\n",
       "      <td>1.0</td>\n",
       "      <td>1.0</td>\n",
       "      <td>2.301286</td>\n",
       "    </tr>\n",
       "    <tr>\n",
       "      <td>1</td>\n",
       "      <td>1.0</td>\n",
       "      <td>1.0</td>\n",
       "      <td>1.038420</td>\n",
       "    </tr>\n",
       "    <tr>\n",
       "      <td>2</td>\n",
       "      <td>0.0</td>\n",
       "      <td>1.0</td>\n",
       "      <td>-0.071095</td>\n",
       "    </tr>\n",
       "    <tr>\n",
       "      <td>3</td>\n",
       "      <td>1.0</td>\n",
       "      <td>1.0</td>\n",
       "      <td>1.389474</td>\n",
       "    </tr>\n",
       "    <tr>\n",
       "      <td>4</td>\n",
       "      <td>1.0</td>\n",
       "      <td>1.0</td>\n",
       "      <td>1.315225</td>\n",
       "    </tr>\n",
       "    <tr>\n",
       "      <td>...</td>\n",
       "      <td>...</td>\n",
       "      <td>...</td>\n",
       "      <td>...</td>\n",
       "    </tr>\n",
       "    <tr>\n",
       "      <td>45843</td>\n",
       "      <td>0.0</td>\n",
       "      <td>0.0</td>\n",
       "      <td>-0.617493</td>\n",
       "    </tr>\n",
       "    <tr>\n",
       "      <td>45844</td>\n",
       "      <td>0.0</td>\n",
       "      <td>0.0</td>\n",
       "      <td>-0.659299</td>\n",
       "    </tr>\n",
       "    <tr>\n",
       "      <td>45845</td>\n",
       "      <td>0.0</td>\n",
       "      <td>0.0</td>\n",
       "      <td>-0.659299</td>\n",
       "    </tr>\n",
       "    <tr>\n",
       "      <td>45846</td>\n",
       "      <td>0.0</td>\n",
       "      <td>0.0</td>\n",
       "      <td>-1.068227</td>\n",
       "    </tr>\n",
       "    <tr>\n",
       "      <td>45847</td>\n",
       "      <td>0.0</td>\n",
       "      <td>0.0</td>\n",
       "      <td>-1.453743</td>\n",
       "    </tr>\n",
       "  </tbody>\n",
       "</table>\n",
       "<p>45848 rows × 3 columns</p>\n",
       "</div>"
      ],
      "text/plain": [
       "       predictions  true         z\n",
       "0              1.0   1.0  2.301286\n",
       "1              1.0   1.0  1.038420\n",
       "2              0.0   1.0 -0.071095\n",
       "3              1.0   1.0  1.389474\n",
       "4              1.0   1.0  1.315225\n",
       "...            ...   ...       ...\n",
       "45843          0.0   0.0 -0.617493\n",
       "45844          0.0   0.0 -0.659299\n",
       "45845          0.0   0.0 -0.659299\n",
       "45846          0.0   0.0 -1.068227\n",
       "45847          0.0   0.0 -1.453743\n",
       "\n",
       "[45848 rows x 3 columns]"
      ]
     },
     "execution_count": 36,
     "metadata": {},
     "output_type": "execute_result"
    }
   ],
   "source": [
    "z = flda_smote.transform(X_res)\n",
    "df_y = pd.DataFrame(np.concatenate((arr, z.reshape(-1, 1)),1), columns=[\"predictions\", \"true\", \"z\"])\n",
    "df_y"
   ]
  },
  {
   "cell_type": "code",
   "execution_count": 37,
   "metadata": {},
   "outputs": [
    {
     "data": {
      "image/png": "[encoded data removed]",
      "text/plain": [
       "<Figure size 432x288 with 1 Axes>"
      ]
     },
     "metadata": {},
     "output_type": "display_data"
    }
   ],
   "source": [
    "fig, ax = plt.subplots()\n",
    "ax.bar([0,1], [len(df_y[\"true\"]) - np.sum(df_y[\"true\"]), np.sum(df_y[\"true\"])])\n",
    "ax.set_xticks([0, 1])\n",
    "ax.set_xticklabels([\"Not Recommended\", \"Recommended\"])\n",
    "ax.grid(False)"
   ]
  },
  {
   "cell_type": "code",
   "execution_count": 38,
   "metadata": {},
   "outputs": [
    {
     "data": {
      "image/png": "[encoded data removed]",
      "text/plain": [
       "<Figure size 288x288 with 1 Axes>"
      ]
     },
     "metadata": {},
     "output_type": "display_data"
    },
    {
     "name": "stdout",
     "output_type": "stream",
     "text": [
      "              precision    recall  f1-score   support\n",
      "\n",
      "         0.0       0.76      0.92      0.83     22924\n",
      "         1.0       0.90      0.71      0.79     22924\n",
      "\n",
      "    accuracy                           0.82     45848\n",
      "   macro avg       0.83      0.82      0.81     45848\n",
      "weighted avg       0.83      0.82      0.81     45848\n",
      "\n"
     ]
    }
   ],
   "source": [
    "true_y2 = np.array(df_y[\"true\"])\n",
    "heatconmat(true_y2, predict_y)"
   ]
  },
  {
   "cell_type": "code",
   "execution_count": 39,
   "metadata": {},
   "outputs": [
    {
     "data": {
      "text/html": [
       "<div>\n",
       "<style scoped>\n",
       "    .dataframe tbody tr th:only-of-type {\n",
       "        vertical-align: middle;\n",
       "    }\n",
       "\n",
       "    .dataframe tbody tr th {\n",
       "        vertical-align: top;\n",
       "    }\n",
       "\n",
       "    .dataframe thead th {\n",
       "        text-align: right;\n",
       "    }\n",
       "</style>\n",
       "<table border=\"1\" class=\"dataframe\">\n",
       "  <thead>\n",
       "    <tr style=\"text-align: right;\">\n",
       "      <th></th>\n",
       "      <th>bad_reference</th>\n",
       "      <th>good_reference</th>\n",
       "      <th>feature_name</th>\n",
       "    </tr>\n",
       "  </thead>\n",
       "  <tbody>\n",
       "    <tr>\n",
       "      <td>176</td>\n",
       "      <td>1.044887</td>\n",
       "      <td>0.00043622404466934215</td>\n",
       "      <td>continue</td>\n",
       "    </tr>\n",
       "    <tr>\n",
       "      <td>676</td>\n",
       "      <td>0.966585</td>\n",
       "      <td>0.005321933344965974</td>\n",
       "      <td>poor</td>\n",
       "    </tr>\n",
       "    <tr>\n",
       "      <td>500</td>\n",
       "      <td>0.249564</td>\n",
       "      <td>0.012476007677543186</td>\n",
       "      <td>leave</td>\n",
       "    </tr>\n",
       "    <tr>\n",
       "      <td>690</td>\n",
       "      <td>0.177630</td>\n",
       "      <td>0.03638108532542314</td>\n",
       "      <td>probably</td>\n",
       "    </tr>\n",
       "    <tr>\n",
       "      <td>674</td>\n",
       "      <td>0.171523</td>\n",
       "      <td>0.008855348106787645</td>\n",
       "      <td>point</td>\n",
       "    </tr>\n",
       "    <tr>\n",
       "      <td>832</td>\n",
       "      <td>0.168470</td>\n",
       "      <td>0.0022683650322805793</td>\n",
       "      <td>starting</td>\n",
       "    </tr>\n",
       "    <tr>\n",
       "      <td>755</td>\n",
       "      <td>0.160269</td>\n",
       "      <td>0.0047984644913627635</td>\n",
       "      <td>sale</td>\n",
       "    </tr>\n",
       "    <tr>\n",
       "      <td>332</td>\n",
       "      <td>0.135317</td>\n",
       "      <td>0.0019193857965451055</td>\n",
       "      <td>fixed</td>\n",
       "    </tr>\n",
       "    <tr>\n",
       "      <td>238</td>\n",
       "      <td>0.122230</td>\n",
       "      <td>0.002181120223346711</td>\n",
       "      <td>divertido</td>\n",
       "    </tr>\n",
       "    <tr>\n",
       "      <td>255</td>\n",
       "      <td>0.119133</td>\n",
       "      <td>0.0010469377072064212</td>\n",
       "      <td>dying</td>\n",
       "    </tr>\n",
       "    <tr>\n",
       "      <td>738</td>\n",
       "      <td>0.116646</td>\n",
       "      <td>0.0035770371662886056</td>\n",
       "      <td>rest</td>\n",
       "    </tr>\n",
       "    <tr>\n",
       "      <td>861</td>\n",
       "      <td>0.103298</td>\n",
       "      <td>0.008724480893386843</td>\n",
       "      <td>takes</td>\n",
       "    </tr>\n",
       "    <tr>\n",
       "      <td>704</td>\n",
       "      <td>0.090778</td>\n",
       "      <td>0.006979584714709474</td>\n",
       "      <td>quickly</td>\n",
       "    </tr>\n",
       "    <tr>\n",
       "      <td>190</td>\n",
       "      <td>0.074202</td>\n",
       "      <td>0.019935438841388937</td>\n",
       "      <td>crash</td>\n",
       "    </tr>\n",
       "    <tr>\n",
       "      <td>833</td>\n",
       "      <td>0.071890</td>\n",
       "      <td>0.02325074158087594</td>\n",
       "      <td>starts</td>\n",
       "    </tr>\n",
       "    <tr>\n",
       "      <td>0</td>\n",
       "      <td>0.070058</td>\n",
       "      <td>0.0037079043796894085</td>\n",
       "      <td>10</td>\n",
       "    </tr>\n",
       "    <tr>\n",
       "      <td>60</td>\n",
       "      <td>0.068007</td>\n",
       "      <td>0.005321933344965974</td>\n",
       "      <td>aside</td>\n",
       "    </tr>\n",
       "    <tr>\n",
       "      <td>535</td>\n",
       "      <td>0.060243</td>\n",
       "      <td>0.006107136625370791</td>\n",
       "      <td>lot</td>\n",
       "    </tr>\n",
       "    <tr>\n",
       "      <td>304</td>\n",
       "      <td>0.053699</td>\n",
       "      <td>0.0049729541092305</td>\n",
       "      <td>face</td>\n",
       "    </tr>\n",
       "    <tr>\n",
       "      <td>560</td>\n",
       "      <td>0.052827</td>\n",
       "      <td>0.009553306578258593</td>\n",
       "      <td>mates</td>\n",
       "    </tr>\n",
       "  </tbody>\n",
       "</table>\n",
       "</div>"
      ],
      "text/plain": [
       "     bad_reference          good_reference feature_name\n",
       "176       1.044887  0.00043622404466934215     continue\n",
       "676       0.966585    0.005321933344965974         poor\n",
       "500       0.249564    0.012476007677543186        leave\n",
       "690       0.177630     0.03638108532542314     probably\n",
       "674       0.171523    0.008855348106787645        point\n",
       "832       0.168470   0.0022683650322805793     starting\n",
       "755       0.160269   0.0047984644913627635         sale\n",
       "332       0.135317   0.0019193857965451055        fixed\n",
       "238       0.122230    0.002181120223346711    divertido\n",
       "255       0.119133   0.0010469377072064212        dying\n",
       "738       0.116646   0.0035770371662886056         rest\n",
       "861       0.103298    0.008724480893386843        takes\n",
       "704       0.090778    0.006979584714709474      quickly\n",
       "190       0.074202    0.019935438841388937        crash\n",
       "833       0.071890     0.02325074158087594       starts\n",
       "0         0.070058   0.0037079043796894085           10\n",
       "60        0.068007    0.005321933344965974        aside\n",
       "535       0.060243    0.006107136625370791          lot\n",
       "304       0.053699      0.0049729541092305         face\n",
       "560       0.052827    0.009553306578258593        mates"
      ]
     },
     "execution_count": 39,
     "metadata": {},
     "output_type": "execute_result"
    }
   ],
   "source": [
    "means = flda_smote.means_\n",
    "means_df = pd.DataFrame(np.concatenate((means.reshape([n_features, -1]), tfidf_feature_names), 1),\n",
    "                        columns=[\"bad_reference\", \"good_reference\", \"feature_name\"])\n",
    "\n",
    "means_df[\"bad_reference\"] = np.array(means_df[\"bad_reference\"], dtype=np.float32)\n",
    "means_df = means_df.sort_values(by=['bad_reference'], ascending=False)\n",
    "means_df[:n_top_words]"
   ]
  },
  {
   "cell_type": "code",
   "execution_count": 40,
   "metadata": {},
   "outputs": [
    {
     "data": {
      "text/html": [
       "<div>\n",
       "<style scoped>\n",
       "    .dataframe tbody tr th:only-of-type {\n",
       "        vertical-align: middle;\n",
       "    }\n",
       "\n",
       "    .dataframe tbody tr th {\n",
       "        vertical-align: top;\n",
       "    }\n",
       "\n",
       "    .dataframe thead th {\n",
       "        text-align: right;\n",
       "    }\n",
       "</style>\n",
       "<table border=\"1\" class=\"dataframe\">\n",
       "  <thead>\n",
       "    <tr style=\"text-align: right;\">\n",
       "      <th></th>\n",
       "      <th>bad_reference</th>\n",
       "      <th>good_reference</th>\n",
       "      <th>feature_name</th>\n",
       "    </tr>\n",
       "  </thead>\n",
       "  <tbody>\n",
       "    <tr>\n",
       "      <td>692</td>\n",
       "      <td>0.037733</td>\n",
       "      <td>0.162799</td>\n",
       "      <td>problems</td>\n",
       "    </tr>\n",
       "    <tr>\n",
       "      <td>544</td>\n",
       "      <td>0.005322</td>\n",
       "      <td>0.109798</td>\n",
       "      <td>main</td>\n",
       "    </tr>\n",
       "    <tr>\n",
       "      <td>678</td>\n",
       "      <td>0.003795</td>\n",
       "      <td>0.099895</td>\n",
       "      <td>port</td>\n",
       "    </tr>\n",
       "    <tr>\n",
       "      <td>942</td>\n",
       "      <td>0.003359</td>\n",
       "      <td>0.084322</td>\n",
       "      <td>voice</td>\n",
       "    </tr>\n",
       "    <tr>\n",
       "      <td>522</td>\n",
       "      <td>0.004493</td>\n",
       "      <td>0.070756</td>\n",
       "      <td>load</td>\n",
       "    </tr>\n",
       "    <tr>\n",
       "      <td>768</td>\n",
       "      <td>0.014701</td>\n",
       "      <td>0.070756</td>\n",
       "      <td>second</td>\n",
       "    </tr>\n",
       "    <tr>\n",
       "      <td>834</td>\n",
       "      <td>0.026784</td>\n",
       "      <td>0.064081</td>\n",
       "      <td>state</td>\n",
       "    </tr>\n",
       "    <tr>\n",
       "      <td>824</td>\n",
       "      <td>0.015268</td>\n",
       "      <td>0.063689</td>\n",
       "      <td>special</td>\n",
       "    </tr>\n",
       "    <tr>\n",
       "      <td>119</td>\n",
       "      <td>0.000131</td>\n",
       "      <td>0.061159</td>\n",
       "      <td>button</td>\n",
       "    </tr>\n",
       "    <tr>\n",
       "      <td>122</td>\n",
       "      <td>0.002181</td>\n",
       "      <td>0.056142</td>\n",
       "      <td>called</td>\n",
       "    </tr>\n",
       "    <tr>\n",
       "      <td>863</td>\n",
       "      <td>0.005104</td>\n",
       "      <td>0.053961</td>\n",
       "      <td>talk</td>\n",
       "    </tr>\n",
       "    <tr>\n",
       "      <td>920</td>\n",
       "      <td>0.003621</td>\n",
       "      <td>0.051998</td>\n",
       "      <td>unlock</td>\n",
       "    </tr>\n",
       "    <tr>\n",
       "      <td>442</td>\n",
       "      <td>0.002268</td>\n",
       "      <td>0.051780</td>\n",
       "      <td>huge</td>\n",
       "    </tr>\n",
       "    <tr>\n",
       "      <td>773</td>\n",
       "      <td>0.003795</td>\n",
       "      <td>0.051518</td>\n",
       "      <td>sense</td>\n",
       "    </tr>\n",
       "    <tr>\n",
       "      <td>294</td>\n",
       "      <td>0.000654</td>\n",
       "      <td>0.050602</td>\n",
       "      <td>exciting</td>\n",
       "    </tr>\n",
       "    <tr>\n",
       "      <td>672</td>\n",
       "      <td>0.004275</td>\n",
       "      <td>0.050079</td>\n",
       "      <td>plot</td>\n",
       "    </tr>\n",
       "    <tr>\n",
       "      <td>545</td>\n",
       "      <td>0.006282</td>\n",
       "      <td>0.046589</td>\n",
       "      <td>mais</td>\n",
       "    </tr>\n",
       "    <tr>\n",
       "      <td>622</td>\n",
       "      <td>0.003795</td>\n",
       "      <td>0.045455</td>\n",
       "      <td>ones</td>\n",
       "    </tr>\n",
       "    <tr>\n",
       "      <td>975</td>\n",
       "      <td>0.003621</td>\n",
       "      <td>0.043797</td>\n",
       "      <td>words</td>\n",
       "    </tr>\n",
       "    <tr>\n",
       "      <td>991</td>\n",
       "      <td>0.002530</td>\n",
       "      <td>0.042226</td>\n",
       "      <td>yeah</td>\n",
       "    </tr>\n",
       "  </tbody>\n",
       "</table>\n",
       "</div>"
      ],
      "text/plain": [
       "     bad_reference  good_reference feature_name\n",
       "692       0.037733        0.162799     problems\n",
       "544       0.005322        0.109798         main\n",
       "678       0.003795        0.099895         port\n",
       "942       0.003359        0.084322        voice\n",
       "522       0.004493        0.070756         load\n",
       "768       0.014701        0.070756       second\n",
       "834       0.026784        0.064081        state\n",
       "824       0.015268        0.063689      special\n",
       "119       0.000131        0.061159       button\n",
       "122       0.002181        0.056142       called\n",
       "863       0.005104        0.053961         talk\n",
       "920       0.003621        0.051998       unlock\n",
       "442       0.002268        0.051780         huge\n",
       "773       0.003795        0.051518        sense\n",
       "294       0.000654        0.050602     exciting\n",
       "672       0.004275        0.050079         plot\n",
       "545       0.006282        0.046589         mais\n",
       "622       0.003795        0.045455         ones\n",
       "975       0.003621        0.043797        words\n",
       "991       0.002530        0.042226         yeah"
      ]
     },
     "execution_count": 40,
     "metadata": {},
     "output_type": "execute_result"
    }
   ],
   "source": [
    "means_df[\"good_reference\"] = np.array(means_df[\"good_reference\"], dtype=np.float32)\n",
    "means_df = means_df.sort_values(by=['good_reference'], ascending=False)\n",
    "means_df[:n_top_words]"
   ]
  },
  {
   "cell_type": "code",
   "execution_count": null,
   "metadata": {},
   "outputs": [],
   "source": []
  }
 ],
 "metadata": {
  "kernelspec": {
   "display_name": "Python 3",
   "language": "python",
   "name": "python3"
  },
  "language_info": {
   "codemirror_mode": {
    "name": "ipython",
    "version": 3
   },
   "file_extension": ".py",
   "mimetype": "text/x-python",
   "name": "python",
   "nbconvert_exporter": "python",
   "pygments_lexer": "ipython3",
   "version": "3.6.9"
  }
 },
 "nbformat": 4,
 "nbformat_minor": 4
}
