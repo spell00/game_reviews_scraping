{
 "cells": [
  {
   "cell_type": "code",
   "execution_count": 1,
   "metadata": {},
   "outputs": [],
   "source": [
    "import os\n",
    "import time\n",
    "#basic imports\n",
    "import pandas as pd\n",
    "import numpy as np\n",
    "import matplotlib.pyplot as plt\n",
    "import seaborn as sns\n",
    "from time import time\n",
    "\n",
    "#word modeling\n",
    "from gensim.models.doc2vec import Doc2Vec, TaggedDocument\n",
    "from nltk.tokenize import word_tokenize \n",
    "from sklearn.model_selection import train_test_split\n",
    "from sklearn.metrics import confusion_matrix, classification_report\n",
    "from sklearn.manifold import TSNE\n",
    "from sklearn.linear_model import LogisticRegression\n",
    "from sklearn.decomposition import PCA \n",
    "from sklearn.decomposition import FactorAnalysis \n",
    "from sklearn.preprocessing import StandardScaler\n",
    "from sklearn.discriminant_analysis import LinearDiscriminantAnalysis\n",
    "from sklearn.manifold import TSNE\n",
    "from sklearn.svm import SVC\n",
    "from sklearn.model_selection import cross_val_predict\n",
    "from gensim.parsing.preprocessing import remove_stopwords\n",
    "import nltk\n",
    "\n",
    "import warnings\n",
    "warnings.filterwarnings(\"ignore\",category=DeprecationWarning)\n",
    "warnings.filterwarnings('ignore',message=\"Precision\")\n",
    "\n",
    "from sklearn.decomposition import LatentDirichletAllocation\n",
    "from sklearn.feature_extraction.text import TfidfVectorizer, CountVectorizer\n",
    "from sklearn.decomposition import NMF, LatentDirichletAllocation\n"
   ]
  },
  {
   "cell_type": "code",
   "execution_count": 2,
   "metadata": {},
   "outputs": [],
   "source": [
    "def print_top_words(model, feature_names, n_top_words):\n",
    "    for topic_idx, topic in enumerate(model.components_):\n",
    "        message = \"Topic #%d: \" % topic_idx\n",
    "        message += \" \".join([feature_names[i]\n",
    "                             for i in topic.argsort()[:-n_top_words - 1:-1]])\n",
    "        print(message)\n",
    "    print()\n"
   ]
  },
  {
   "cell_type": "code",
   "execution_count": 3,
   "metadata": {},
   "outputs": [],
   "source": [
    "n_features = 1000\n",
    "n_top_words = 20"
   ]
  },
  {
   "cell_type": "markdown",
   "metadata": {},
   "source": [
    "# load data\n"
   ]
  },
  {
   "cell_type": "code",
   "execution_count": 4,
   "metadata": {},
   "outputs": [
    {
     "data": {
      "text/html": [
       "<div>\n",
       "<style scoped>\n",
       "    .dataframe tbody tr th:only-of-type {\n",
       "        vertical-align: middle;\n",
       "    }\n",
       "\n",
       "    .dataframe tbody tr th {\n",
       "        vertical-align: top;\n",
       "    }\n",
       "\n",
       "    .dataframe thead th {\n",
       "        text-align: right;\n",
       "    }\n",
       "</style>\n",
       "<table border=\"1\" class=\"dataframe\">\n",
       "  <thead>\n",
       "    <tr style=\"text-align: right;\">\n",
       "      <th></th>\n",
       "      <th>id</th>\n",
       "      <th>funny</th>\n",
       "      <th>helpful</th>\n",
       "      <th>recommend</th>\n",
       "      <th>polarity</th>\n",
       "      <th>positive</th>\n",
       "      <th>subjectivity</th>\n",
       "      <th>review</th>\n",
       "    </tr>\n",
       "  </thead>\n",
       "  <tbody>\n",
       "    <tr>\n",
       "      <td>1</td>\n",
       "      <td>76561197970982479</td>\n",
       "      <td>NaN</td>\n",
       "      <td>No ratings yet</td>\n",
       "      <td>1</td>\n",
       "      <td>0.17444444444444446</td>\n",
       "      <td>True</td>\n",
       "      <td>0.3796031746031746</td>\n",
       "      <td>Simple yet with great replayability. In my opi...</td>\n",
       "    </tr>\n",
       "    <tr>\n",
       "      <td>2</td>\n",
       "      <td>js41637</td>\n",
       "      <td>NaN</td>\n",
       "      <td>15 of 20 people (75%) found this review helpful</td>\n",
       "      <td>1</td>\n",
       "      <td>0.11458333333333336</td>\n",
       "      <td>True</td>\n",
       "      <td>0.6604166666666667</td>\n",
       "      <td>I know what you think when you see this title ...</td>\n",
       "    </tr>\n",
       "    <tr>\n",
       "      <td>3</td>\n",
       "      <td>evcentric</td>\n",
       "      <td>NaN</td>\n",
       "      <td>No ratings yet</td>\n",
       "      <td>1</td>\n",
       "      <td>0.23154761904761909</td>\n",
       "      <td>True</td>\n",
       "      <td>0.5267857142857143</td>\n",
       "      <td>A suitably punishing roguelike platformer.  Wi...</td>\n",
       "    </tr>\n",
       "    <tr>\n",
       "      <td>4</td>\n",
       "      <td>doctr</td>\n",
       "      <td>NaN</td>\n",
       "      <td>2 of 2 people (100%) found this review helpful</td>\n",
       "      <td>1</td>\n",
       "      <td>0.25785714285714284</td>\n",
       "      <td>True</td>\n",
       "      <td>0.4723809523809524</td>\n",
       "      <td>This game... is so fun. The fight sequences ha...</td>\n",
       "    </tr>\n",
       "    <tr>\n",
       "      <td>5</td>\n",
       "      <td>maplemage</td>\n",
       "      <td>3 people found this review funny</td>\n",
       "      <td>35 of 43 people (81%) found this review helpful</td>\n",
       "      <td>1</td>\n",
       "      <td>0.0</td>\n",
       "      <td>False</td>\n",
       "      <td>0.0</td>\n",
       "      <td>Git gud</td>\n",
       "    </tr>\n",
       "    <tr>\n",
       "      <td>...</td>\n",
       "      <td>...</td>\n",
       "      <td>...</td>\n",
       "      <td>...</td>\n",
       "      <td>...</td>\n",
       "      <td>...</td>\n",
       "      <td>...</td>\n",
       "      <td>...</td>\n",
       "      <td>...</td>\n",
       "    </tr>\n",
       "    <tr>\n",
       "      <td>25795</td>\n",
       "      <td>76561198306599751</td>\n",
       "      <td>NaN</td>\n",
       "      <td>0 of 1 people (0%) found this review helpful</td>\n",
       "      <td>1</td>\n",
       "      <td>0.39999999999999997</td>\n",
       "      <td>True</td>\n",
       "      <td>0.6000000000000001</td>\n",
       "      <td>I cried in the end its so sadding ]'; I wish l...</td>\n",
       "    </tr>\n",
       "    <tr>\n",
       "      <td>25796</td>\n",
       "      <td>Ghoustik</td>\n",
       "      <td>NaN</td>\n",
       "      <td>0 of 1 people (0%) found this review helpful</td>\n",
       "      <td>1</td>\n",
       "      <td>0.0</td>\n",
       "      <td>False</td>\n",
       "      <td>0.0</td>\n",
       "      <td>Gra naprawdę fajna.Ale jest kilka rzeczy do kt...</td>\n",
       "    </tr>\n",
       "    <tr>\n",
       "      <td>25797</td>\n",
       "      <td>76561198310819422</td>\n",
       "      <td>1 person found this review funny</td>\n",
       "      <td>1 of 1 people (100%) found this review helpful</td>\n",
       "      <td>1</td>\n",
       "      <td>0.0</td>\n",
       "      <td>False</td>\n",
       "      <td>0.0</td>\n",
       "      <td>Well Done</td>\n",
       "    </tr>\n",
       "    <tr>\n",
       "      <td>25798</td>\n",
       "      <td>76561198312638244</td>\n",
       "      <td>NaN</td>\n",
       "      <td>No ratings yet</td>\n",
       "      <td>1</td>\n",
       "      <td>0.2490909090909091</td>\n",
       "      <td>True</td>\n",
       "      <td>0.5509090909090909</td>\n",
       "      <td>this is a very fun and nice 80s themed shooter...</td>\n",
       "    </tr>\n",
       "    <tr>\n",
       "      <td>25799</td>\n",
       "      <td>LydiaMorley</td>\n",
       "      <td>1 person found this review funny</td>\n",
       "      <td>1 of 2 people (50%) found this review helpful</td>\n",
       "      <td>1</td>\n",
       "      <td>0.08750000000000001</td>\n",
       "      <td>False</td>\n",
       "      <td>0.3833333333333333</td>\n",
       "      <td>had so much fun plaing this and collecting res...</td>\n",
       "    </tr>\n",
       "  </tbody>\n",
       "</table>\n",
       "<p>25799 rows × 8 columns</p>\n",
       "</div>"
      ],
      "text/plain": [
       "                      id                             funny  \\\n",
       "1      76561197970982479                               NaN   \n",
       "2                js41637                               NaN   \n",
       "3              evcentric                               NaN   \n",
       "4                  doctr                               NaN   \n",
       "5              maplemage  3 people found this review funny   \n",
       "...                  ...                               ...   \n",
       "25795  76561198306599751                               NaN   \n",
       "25796           Ghoustik                               NaN   \n",
       "25797  76561198310819422  1 person found this review funny   \n",
       "25798  76561198312638244                               NaN   \n",
       "25799        LydiaMorley  1 person found this review funny   \n",
       "\n",
       "                                               helpful recommend  \\\n",
       "1                                       No ratings yet         1   \n",
       "2      15 of 20 people (75%) found this review helpful         1   \n",
       "3                                       No ratings yet         1   \n",
       "4       2 of 2 people (100%) found this review helpful         1   \n",
       "5      35 of 43 people (81%) found this review helpful         1   \n",
       "...                                                ...       ...   \n",
       "25795     0 of 1 people (0%) found this review helpful         1   \n",
       "25796     0 of 1 people (0%) found this review helpful         1   \n",
       "25797   1 of 1 people (100%) found this review helpful         1   \n",
       "25798                                   No ratings yet         1   \n",
       "25799    1 of 2 people (50%) found this review helpful         1   \n",
       "\n",
       "                  polarity positive        subjectivity  \\\n",
       "1      0.17444444444444446     True  0.3796031746031746   \n",
       "2      0.11458333333333336     True  0.6604166666666667   \n",
       "3      0.23154761904761909     True  0.5267857142857143   \n",
       "4      0.25785714285714284     True  0.4723809523809524   \n",
       "5                      0.0    False                 0.0   \n",
       "...                    ...      ...                 ...   \n",
       "25795  0.39999999999999997     True  0.6000000000000001   \n",
       "25796                  0.0    False                 0.0   \n",
       "25797                  0.0    False                 0.0   \n",
       "25798   0.2490909090909091     True  0.5509090909090909   \n",
       "25799  0.08750000000000001    False  0.3833333333333333   \n",
       "\n",
       "                                                  review  \n",
       "1      Simple yet with great replayability. In my opi...  \n",
       "2      I know what you think when you see this title ...  \n",
       "3      A suitably punishing roguelike platformer.  Wi...  \n",
       "4      This game... is so fun. The fight sequences ha...  \n",
       "5                                                Git gud  \n",
       "...                                                  ...  \n",
       "25795  I cried in the end its so sadding ]'; I wish l...  \n",
       "25796  Gra naprawdę fajna.Ale jest kilka rzeczy do kt...  \n",
       "25797                                          Well Done  \n",
       "25798  this is a very fun and nice 80s themed shooter...  \n",
       "25799  had so much fun plaing this and collecting res...  \n",
       "\n",
       "[25799 rows x 8 columns]"
      ]
     },
     "execution_count": 4,
     "metadata": {},
     "output_type": "execute_result"
    }
   ],
   "source": [
    "train_docs = pd.read_csv('../steam_australia.csv', \n",
    "                         names=[\"id\", \"funny\", \"helpful\", \"recommend\",\n",
    "                               \"polarity\", \"positive\", \"subjectivity\", \"review\"],\n",
    "                        header=None).reset_index(drop=True)[1:]\n",
    "recommend_indices = [i for i, x in enumerate(np.array(train_docs[\"recommend\"])) if type(x) == str]\n",
    "train_docs"
   ]
  },
  {
   "cell_type": "code",
   "execution_count": null,
   "metadata": {},
   "outputs": [],
   "source": []
  },
  {
   "cell_type": "code",
   "execution_count": 5,
   "metadata": {},
   "outputs": [
    {
     "name": "stdout",
     "output_type": "stream",
     "text": [
      "done in 0.860s.\n"
     ]
    }
   ],
   "source": [
    "data_samples = train_docs['review']\n",
    "t0 = time()\n",
    "tfidf_vectorizer = TfidfVectorizer(max_df=0.95, min_df=2,\n",
    "                                   max_features=n_features,\n",
    "                                   stop_words='english')\n",
    "tfidf  = tfidf_vectorizer.fit_transform(data_samples.astype('U'))\n",
    "print(\"done in %0.3fs.\" % (time() - t0))\n"
   ]
  },
  {
   "cell_type": "code",
   "execution_count": 6,
   "metadata": {},
   "outputs": [],
   "source": [
    "tf_vectorizer = CountVectorizer(max_df=0.95, min_df=1,\n",
    "                                max_features=n_features,\n",
    "                                stop_words='english')\n",
    "tf = tf_vectorizer.fit_transform(data_samples.astype('U'))\n"
   ]
  },
  {
   "cell_type": "code",
   "execution_count": 7,
   "metadata": {},
   "outputs": [],
   "source": [
    "true_y = np.array(np.array(train_docs[\"recommend\"])[recommend_indices], dtype=int)\n",
    "np.unique(true_y)\n",
    "data = tf.toarray()[recommend_indices]"
   ]
  },
  {
   "cell_type": "code",
   "execution_count": 8,
   "metadata": {},
   "outputs": [
    {
     "name": "stdout",
     "output_type": "stream",
     "text": [
      "done in 7.106s.\n"
     ]
    }
   ],
   "source": [
    "flda = LinearDiscriminantAnalysis(n_components=1, tol=0.001)\n",
    "t0 = time()\n",
    "flda.fit(data, true_y)\n",
    "print(\"done in %0.3fs.\" % (time() - t0))"
   ]
  },
  {
   "cell_type": "markdown",
   "metadata": {},
   "source": [
    "# Precision"
   ]
  },
  {
   "cell_type": "code",
   "execution_count": 9,
   "metadata": {},
   "outputs": [
    {
     "name": "stdout",
     "output_type": "stream",
     "text": [
      "23526 / 25771 0.9128865779364402\n"
     ]
    }
   ],
   "source": [
    "predict_y = flda.predict(tf.toarray()[recommend_indices])\n",
    "arr = np.concatenate((predict_y.reshape([-1, 1]), true_y.reshape([-1, 1])), 1)\n",
    "\n",
    "total = len(arr)\n",
    "corrects = [i for i, x in enumerate(arr) if x[0] == x[1]]\n",
    "print(len(corrects), \"/\", total, len(corrects)/total)"
   ]
  },
  {
   "cell_type": "code",
   "execution_count": 10,
   "metadata": {},
   "outputs": [],
   "source": [
    "def heatconmat(y_true, y_pred):\n",
    "    sns.set_context('talk')\n",
    "    plt.figure(figsize=(4,4))\n",
    "    sns.heatmap(confusion_matrix(y_true,y_pred),\n",
    "                annot=True,\n",
    "                fmt='d',\n",
    "                cbar=False,\n",
    "                cmap='gist_earth_r')\n",
    "    plt.show()\n",
    "    print(classification_report(y_true,y_pred))"
   ]
  },
  {
   "cell_type": "code",
   "execution_count": 11,
   "metadata": {},
   "outputs": [
    {
     "data": {
      "image/png": "[encoded data removed]",
      "text/plain": [
       "<Figure size 288x288 with 1 Axes>"
      ]
     },
     "metadata": {
      "needs_background": "light"
     },
     "output_type": "display_data"
    },
    {
     "name": "stdout",
     "output_type": "stream",
     "text": [
      "              precision    recall  f1-score   support\n",
      "\n",
      "           0       0.72      0.35      0.47      2847\n",
      "           1       0.92      0.98      0.95     22924\n",
      "\n",
      "    accuracy                           0.91     25771\n",
      "   macro avg       0.82      0.67      0.71     25771\n",
      "weighted avg       0.90      0.91      0.90     25771\n",
      "\n"
     ]
    }
   ],
   "source": [
    "heatconmat(true_y, predict_y)"
   ]
  },
  {
   "cell_type": "markdown",
   "metadata": {},
   "source": [
    "Predicting too many recommendations because of the bias in the data (Need to rectify)"
   ]
  },
  {
   "cell_type": "code",
   "execution_count": 12,
   "metadata": {},
   "outputs": [
    {
     "data": {
      "text/html": [
       "<div>\n",
       "<style scoped>\n",
       "    .dataframe tbody tr th:only-of-type {\n",
       "        vertical-align: middle;\n",
       "    }\n",
       "\n",
       "    .dataframe tbody tr th {\n",
       "        vertical-align: top;\n",
       "    }\n",
       "\n",
       "    .dataframe thead th {\n",
       "        text-align: right;\n",
       "    }\n",
       "</style>\n",
       "<table border=\"1\" class=\"dataframe\">\n",
       "  <thead>\n",
       "    <tr style=\"text-align: right;\">\n",
       "      <th></th>\n",
       "      <th>predictions</th>\n",
       "      <th>true</th>\n",
       "      <th>z</th>\n",
       "    </tr>\n",
       "  </thead>\n",
       "  <tbody>\n",
       "    <tr>\n",
       "      <td>0</td>\n",
       "      <td>1.0</td>\n",
       "      <td>1.0</td>\n",
       "      <td>0.954126</td>\n",
       "    </tr>\n",
       "    <tr>\n",
       "      <td>1</td>\n",
       "      <td>1.0</td>\n",
       "      <td>1.0</td>\n",
       "      <td>-1.424766</td>\n",
       "    </tr>\n",
       "    <tr>\n",
       "      <td>2</td>\n",
       "      <td>1.0</td>\n",
       "      <td>1.0</td>\n",
       "      <td>-1.254304</td>\n",
       "    </tr>\n",
       "    <tr>\n",
       "      <td>3</td>\n",
       "      <td>1.0</td>\n",
       "      <td>1.0</td>\n",
       "      <td>1.079205</td>\n",
       "    </tr>\n",
       "    <tr>\n",
       "      <td>4</td>\n",
       "      <td>1.0</td>\n",
       "      <td>1.0</td>\n",
       "      <td>0.412941</td>\n",
       "    </tr>\n",
       "    <tr>\n",
       "      <td>...</td>\n",
       "      <td>...</td>\n",
       "      <td>...</td>\n",
       "      <td>...</td>\n",
       "    </tr>\n",
       "    <tr>\n",
       "      <td>25766</td>\n",
       "      <td>1.0</td>\n",
       "      <td>1.0</td>\n",
       "      <td>-1.383552</td>\n",
       "    </tr>\n",
       "    <tr>\n",
       "      <td>25767</td>\n",
       "      <td>1.0</td>\n",
       "      <td>1.0</td>\n",
       "      <td>-0.142311</td>\n",
       "    </tr>\n",
       "    <tr>\n",
       "      <td>25768</td>\n",
       "      <td>1.0</td>\n",
       "      <td>1.0</td>\n",
       "      <td>-0.142311</td>\n",
       "    </tr>\n",
       "    <tr>\n",
       "      <td>25769</td>\n",
       "      <td>1.0</td>\n",
       "      <td>1.0</td>\n",
       "      <td>0.722012</td>\n",
       "    </tr>\n",
       "    <tr>\n",
       "      <td>25770</td>\n",
       "      <td>1.0</td>\n",
       "      <td>1.0</td>\n",
       "      <td>0.851583</td>\n",
       "    </tr>\n",
       "  </tbody>\n",
       "</table>\n",
       "<p>25771 rows × 3 columns</p>\n",
       "</div>"
      ],
      "text/plain": [
       "       predictions  true         z\n",
       "0              1.0   1.0  0.954126\n",
       "1              1.0   1.0 -1.424766\n",
       "2              1.0   1.0 -1.254304\n",
       "3              1.0   1.0  1.079205\n",
       "4              1.0   1.0  0.412941\n",
       "...            ...   ...       ...\n",
       "25766          1.0   1.0 -1.383552\n",
       "25767          1.0   1.0 -0.142311\n",
       "25768          1.0   1.0 -0.142311\n",
       "25769          1.0   1.0  0.722012\n",
       "25770          1.0   1.0  0.851583\n",
       "\n",
       "[25771 rows x 3 columns]"
      ]
     },
     "execution_count": 12,
     "metadata": {},
     "output_type": "execute_result"
    }
   ],
   "source": [
    "z = flda.transform(tf.toarray()[recommend_indices])\n",
    "df_y = pd.DataFrame(np.concatenate((arr, z.reshape(-1, 1)),1), columns=[\"predictions\", \"true\", \"z\"])\n",
    "df_y"
   ]
  },
  {
   "cell_type": "markdown",
   "metadata": {},
   "source": [
    "Recommendation distribution"
   ]
  },
  {
   "cell_type": "code",
   "execution_count": 13,
   "metadata": {},
   "outputs": [
    {
     "data": {
      "image/png": "[encoded data removed]",
      "text/plain": [
       "<Figure size 432x288 with 1 Axes>"
      ]
     },
     "metadata": {
      "needs_background": "light"
     },
     "output_type": "display_data"
    }
   ],
   "source": [
    "fig, ax = plt.subplots()\n",
    "ax.bar([0,1], [len(df_y[\"true\"]) - np.sum(df_y[\"true\"]), np.sum(df_y[\"true\"])])\n",
    "ax.set_xticks([0, 1])\n",
    "ax.set_xticklabels([\"Not Recommended\", \"Recommended\"])\n",
    "ax.grid(False)"
   ]
  },
  {
   "cell_type": "code",
   "execution_count": 14,
   "metadata": {},
   "outputs": [
    {
     "data": {
      "image/png": "[encoded data removed]",
      "text/plain": [
       "<Figure size 432x288 with 1 Axes>"
      ]
     },
     "metadata": {},
     "output_type": "display_data"
    }
   ],
   "source": [
    "sns.set(style=\"whitegrid\")\n",
    "n_true_recommend = sum(df_y[\"true\"])\n",
    "n_true_preds = sum(df_y[\"predictions\"])\n",
    "n_false_recommend = len(df_y[\"true\"]) - n_true_recommend\n",
    "n_false_preds = len(df_y[\"predictions\"]) - n_true_preds\n",
    "x = np.array([0, 1])\n",
    "\n",
    "width = 0.35  # the width of the bars\n",
    "\n",
    "fig, ax = plt.subplots()\n",
    "rects1 = ax.bar(x - width/2, [n_false_recommend, n_true_recommend], width, label='true')\n",
    "rects2 = ax.bar(x + width/2, [n_false_preds, n_true_preds], width, label='predictions')\n",
    "ax.set_xticks(x)\n",
    "ax.set_xticklabels([\"Not Recommended\", \"Recommended\"])\n",
    "ax.legend()\n",
    "ax.grid(False)"
   ]
  },
  {
   "cell_type": "code",
   "execution_count": 15,
   "metadata": {},
   "outputs": [
    {
     "data": {
      "image/png": "[encoded data removed]",
      "text/plain": [
       "<Figure size 432x288 with 1 Axes>"
      ]
     },
     "metadata": {},
     "output_type": "display_data"
    }
   ],
   "source": [
    "sns.set(style=\"ticks\", color_codes=True)\n",
    "sns.boxplot(x=\"true\", y=\"z\", data=df_y);"
   ]
  },
  {
   "cell_type": "code",
   "execution_count": 16,
   "metadata": {},
   "outputs": [
    {
     "data": {
      "image/png": "[encoded data removed]",
      "text/plain": [
       "<Figure size 432x288 with 1 Axes>"
      ]
     },
     "metadata": {},
     "output_type": "display_data"
    }
   ],
   "source": [
    "sns.set(style=\"ticks\", color_codes=True)\n",
    "sns.boxplot(x=\"predictions\", y=\"z\", data=df_y);"
   ]
  },
  {
   "cell_type": "code",
   "execution_count": 17,
   "metadata": {},
   "outputs": [
    {
     "data": {
      "image/png": "[encoded data removed]",
      "text/plain": [
       "<Figure size 432x288 with 1 Axes>"
      ]
     },
     "metadata": {},
     "output_type": "display_data"
    }
   ],
   "source": [
    "sns.set(style=\"ticks\", color_codes=True)\n",
    "sns.violinplot(x=\"true\", y=\"z\", data=df_y);"
   ]
  },
  {
   "cell_type": "code",
   "execution_count": 18,
   "metadata": {},
   "outputs": [
    {
     "data": {
      "text/plain": [
       "<matplotlib.axes._subplots.AxesSubplot at 0x12f9f3a20>"
      ]
     },
     "execution_count": 18,
     "metadata": {},
     "output_type": "execute_result"
    },
    {
     "data": {
      "image/png": "[encoded data removed]",
      "text/plain": [
       "<Figure size 432x288 with 1 Axes>"
      ]
     },
     "metadata": {},
     "output_type": "display_data"
    }
   ],
   "source": [
    "sns.set(style=\"ticks\", color_codes=True)\n",
    "sns.distplot(df_y[\"z\"][df_y[\"true\"] == 1], hist=True, label=\"Recommended\")\n",
    "sns.distplot(df_y[\"z\"][df_y[\"true\"] == 0], hist=True, label=\"Not Recommended\")"
   ]
  },
  {
   "cell_type": "code",
   "execution_count": 19,
   "metadata": {},
   "outputs": [
    {
     "data": {
      "text/plain": [
       "<matplotlib.axes._subplots.AxesSubplot at 0x1311f3390>"
      ]
     },
     "execution_count": 19,
     "metadata": {},
     "output_type": "execute_result"
    },
    {
     "data": {
      "image/png": "[encoded data removed]",
      "text/plain": [
       "<Figure size 432x288 with 1 Axes>"
      ]
     },
     "metadata": {},
     "output_type": "display_data"
    }
   ],
   "source": [
    "sns.set(style=\"ticks\", color_codes=True)\n",
    "sns.kdeplot(df_y[\"z\"][df_y[\"predictions\"] == 1], shade=True, label=\"Recommended\")\n",
    "sns.kdeplot(df_y[\"z\"][df_y[\"predictions\"] == 0], shade=True, label=\"Not Recommended\")"
   ]
  },
  {
   "cell_type": "code",
   "execution_count": 20,
   "metadata": {},
   "outputs": [
    {
     "data": {
      "text/plain": [
       "<matplotlib.axes._subplots.AxesSubplot at 0x130d89198>"
      ]
     },
     "execution_count": 20,
     "metadata": {},
     "output_type": "execute_result"
    },
    {
     "data": {
      "image/png": "[encoded data removed]",
      "text/plain": [
       "<Figure size 432x288 with 1 Axes>"
      ]
     },
     "metadata": {},
     "output_type": "display_data"
    }
   ],
   "source": [
    "y = np.array(df_y[\"predictions\"])\n",
    "arr = np.concatenate((y.reshape([-1, 1]), true_y.reshape([-1, 1])), 1)\n",
    "corrects = [i for i, x in enumerate(arr) if x[0] == x[1]]\n",
    "corrects_pos = [i for i, x in enumerate(arr) if x[0] == x[1] and x[0] == 1]\n",
    "corrects_neg = [i for i, x in enumerate(arr) if x[0] == x[1] and x[0] == 0]\n",
    "sns.set(style=\"ticks\", color_codes=True)\n",
    "sns.kdeplot(df_y[\"z\"][corrects_pos], shade=True, label=\"Recommended\")\n",
    "sns.kdeplot(df_y[\"z\"][corrects_neg], shade=True, label=\"Not Recommended\")"
   ]
  },
  {
   "cell_type": "code",
   "execution_count": 21,
   "metadata": {},
   "outputs": [
    {
     "data": {
      "text/plain": [
       "<matplotlib.axes._subplots.AxesSubplot at 0x12f9e6c50>"
      ]
     },
     "execution_count": 21,
     "metadata": {},
     "output_type": "execute_result"
    },
    {
     "data": {
      "image/png": "[encoded data removed]",
      "text/plain": [
       "<Figure size 432x288 with 1 Axes>"
      ]
     },
     "metadata": {},
     "output_type": "display_data"
    }
   ],
   "source": [
    "incorrects = [i for i, x in enumerate(arr) if x[0] == x[1]]\n",
    "incorrects_pos = [i for i, x in enumerate(arr) if x[0] != x[1] and x[0] == 1]\n",
    "incorrects_neg = [i for i, x in enumerate(arr) if x[0] != x[1] and x[0] == 0]\n",
    "sns.set(style=\"ticks\", color_codes=True)\n",
    "sns.kdeplot(df_y[\"z\"][incorrects_pos], shade=True, label=\"Recommended\")\n",
    "sns.kdeplot(df_y[\"z\"][incorrects_neg], shade=True, label=\"Not Recommended\")"
   ]
  },
  {
   "cell_type": "code",
   "execution_count": 22,
   "metadata": {},
   "outputs": [
    {
     "data": {
      "text/plain": [
       "<matplotlib.collections.PathCollection at 0x1324b6c50>"
      ]
     },
     "execution_count": 22,
     "metadata": {},
     "output_type": "execute_result"
    },
    {
     "data": {
      "image/png": "[encoded data removed]",
      "text/plain": [
       "<Figure size 432x288 with 1 Axes>"
      ]
     },
     "metadata": {},
     "output_type": "display_data"
    }
   ],
   "source": [
    "def rand_jitter(arr):\n",
    "    stdev = .01*(max(arr)-min(arr))\n",
    "    return arr + np.random.randn(len(arr)) * stdev\n",
    "\n",
    "df_y[\"true\"] = np.array([float(x) for x in df_y[\"true\"]])\n",
    "df_y[\"true\"] = rand_jitter(np.array(df_y[\"true\"]))\n",
    "fig = plt.figure()\n",
    "ax = fig.add_subplot(111)\n",
    "ax.scatter(df_y[\"true\"][corrects_pos]+0.1, df_y[\"z\"][corrects_pos], marker=\"o\", s=20, facecolors='none', edgecolors='b')\n",
    "ax.scatter(df_y[\"true\"][corrects_neg]+0.1, df_y[\"z\"][corrects_neg], marker=\"o\", s=20, facecolors='none', edgecolors='b')\n",
    "ax.scatter(df_y[\"true\"][incorrects_pos]-0.1, df_y[\"z\"][incorrects_pos], marker=\"o\", s=20, facecolors='none', edgecolors='r')\n",
    "ax.scatter(df_y[\"true\"][incorrects_neg]-0.1, df_y[\"z\"][incorrects_neg], marker=\"o\", s=20, facecolors='none', edgecolors='r')\n"
   ]
  },
  {
   "cell_type": "code",
   "execution_count": 23,
   "metadata": {},
   "outputs": [
    {
     "data": {
      "text/plain": [
       "<seaborn.axisgrid.FacetGrid at 0x1306eda58>"
      ]
     },
     "execution_count": 23,
     "metadata": {},
     "output_type": "execute_result"
    },
    {
     "data": {
      "image/png": "[encoded data removed]",
      "text/plain": [
       "<Figure size 490.175x432 with 1 Axes>"
      ]
     },
     "metadata": {},
     "output_type": "display_data"
    }
   ],
   "source": [
    "import seaborn as sns\n",
    "df_y = pd.DataFrame(np.concatenate((arr, z.reshape(-1, 1)),1), columns=[\"predictions\", \"true\", \"z\"])\n",
    "sns.set(style=\"whitegrid\")\n",
    "g = sns.catplot(x=\"true\", y=\"z\", hue=\"predictions\", data=df_y,\n",
    "                height=6, kind=\"bar\", palette=\"muted\")\n",
    "g.despine(left=True)\n",
    "g.set_ylabels(\"z\")"
   ]
  },
  {
   "cell_type": "code",
   "execution_count": 24,
   "metadata": {},
   "outputs": [
    {
     "data": {
      "image/png": "[encoded data removed]",
      "text/plain": [
       "<Figure size 432x288 with 1 Axes>"
      ]
     },
     "metadata": {},
     "output_type": "display_data"
    }
   ],
   "source": [
    "import seaborn as sns\n",
    "df_y = pd.DataFrame(np.concatenate((arr, z.reshape(-1, 1)),1), columns=[\"predictions\", \"true\", \"z\"])\n",
    "# sns.set(style=\"whitegrid\")\n",
    "g = sns.boxplot(x=\"true\", y=\"z\", hue=\"predictions\", data=df_y, palette=\"muted\")"
   ]
  },
  {
   "cell_type": "code",
   "execution_count": 25,
   "metadata": {},
   "outputs": [
    {
     "data": {
      "image/png": "[encoded data removed]",
      "text/plain": [
       "<Figure size 432x288 with 1 Axes>"
      ]
     },
     "metadata": {},
     "output_type": "display_data"
    }
   ],
   "source": [
    "g = sns.violinplot(x=\"true\", y=\"z\", hue=\"predictions\", data=df_y, palette=\"muted\")"
   ]
  },
  {
   "cell_type": "code",
   "execution_count": 26,
   "metadata": {},
   "outputs": [
    {
     "data": {
      "text/plain": [
       "<seaborn.axisgrid.FacetGrid at 0x132d22a90>"
      ]
     },
     "execution_count": 26,
     "metadata": {},
     "output_type": "execute_result"
    },
    {
     "data": {
      "image/png": "[encoded data removed]",
      "text/plain": [
       "<Figure size 494.675x432 with 1 Axes>"
      ]
     },
     "metadata": {},
     "output_type": "display_data"
    }
   ],
   "source": [
    "import seaborn as sns\n",
    "arr = np.concatenate((y.reshape([-1, 1]), true_y.reshape([-1, 1])), 1)\n",
    "corrects = np.array([0 if x[0] == x[1] else 1 for i, x in enumerate(arr)])\n",
    "recommends = np.array([0 if x[0] == 0 else 1 for i, x in enumerate(arr)])\n",
    "\n",
    "df_y2 = pd.DataFrame(np.concatenate((corrects.reshape(-1, 1), \n",
    "                                    recommends.reshape(-1, 1), \n",
    "                                    z.reshape(-1, 1)),1), \n",
    "                    columns=[\"correct\", \"recommend\", \"z\"])\n",
    "\n",
    "sns.set(style=\"whitegrid\")\n",
    "g = sns.catplot(x=\"correct\", y=\"z\", hue=\"recommend\", data=df_y2,\n",
    "                height=6, kind=\"bar\", palette=\"muted\")\n",
    "g.despine(left=True)\n",
    "g.set_ylabels(\"z\")"
   ]
  },
  {
   "cell_type": "code",
   "execution_count": 27,
   "metadata": {},
   "outputs": [
    {
     "data": {
      "image/png": "[encoded data removed]",
      "text/plain": [
       "<Figure size 432x288 with 1 Axes>"
      ]
     },
     "metadata": {},
     "output_type": "display_data"
    }
   ],
   "source": [
    "g = sns.violinplot(x=\"correct\", y=\"z\", hue=\"recommend\", data=df_y2, palette=\"muted\")"
   ]
  },
  {
   "cell_type": "code",
   "execution_count": 28,
   "metadata": {},
   "outputs": [
    {
     "data": {
      "image/png": "[encoded data removed]",
      "text/plain": [
       "<Figure size 432x288 with 1 Axes>"
      ]
     },
     "metadata": {},
     "output_type": "display_data"
    }
   ],
   "source": [
    "g = sns.boxplot(x=\"correct\", y=\"z\", hue=\"recommend\", data=df_y2, palette=\"muted\")"
   ]
  },
  {
   "cell_type": "code",
   "execution_count": 29,
   "metadata": {},
   "outputs": [
    {
     "data": {
      "text/html": [
       "<div>\n",
       "<style scoped>\n",
       "    .dataframe tbody tr th:only-of-type {\n",
       "        vertical-align: middle;\n",
       "    }\n",
       "\n",
       "    .dataframe tbody tr th {\n",
       "        vertical-align: top;\n",
       "    }\n",
       "\n",
       "    .dataframe thead th {\n",
       "        text-align: right;\n",
       "    }\n",
       "</style>\n",
       "<table border=\"1\" class=\"dataframe\">\n",
       "  <thead>\n",
       "    <tr style=\"text-align: right;\">\n",
       "      <th></th>\n",
       "      <th>coef</th>\n",
       "      <th>feature_name</th>\n",
       "    </tr>\n",
       "  </thead>\n",
       "  <tbody>\n",
       "    <tr>\n",
       "      <td>0</td>\n",
       "      <td>0.4732385140745569</td>\n",
       "      <td>10</td>\n",
       "    </tr>\n",
       "    <tr>\n",
       "      <td>1</td>\n",
       "      <td>0.2681292972126928</td>\n",
       "      <td>100</td>\n",
       "    </tr>\n",
       "    <tr>\n",
       "      <td>2</td>\n",
       "      <td>0.8202192603078943</td>\n",
       "      <td>11</td>\n",
       "    </tr>\n",
       "    <tr>\n",
       "      <td>3</td>\n",
       "      <td>0.2957941227222527</td>\n",
       "      <td>12</td>\n",
       "    </tr>\n",
       "    <tr>\n",
       "      <td>4</td>\n",
       "      <td>-0.3034699959970425</td>\n",
       "      <td>15</td>\n",
       "    </tr>\n",
       "    <tr>\n",
       "      <td>...</td>\n",
       "      <td>...</td>\n",
       "      <td>...</td>\n",
       "    </tr>\n",
       "    <tr>\n",
       "      <td>995</td>\n",
       "      <td>0.41049356068458726</td>\n",
       "      <td>youtube</td>\n",
       "    </tr>\n",
       "    <tr>\n",
       "      <td>996</td>\n",
       "      <td>-0.014257694160491517</td>\n",
       "      <td>zombie</td>\n",
       "    </tr>\n",
       "    <tr>\n",
       "      <td>997</td>\n",
       "      <td>-0.4330942148422855</td>\n",
       "      <td>zombies</td>\n",
       "    </tr>\n",
       "    <tr>\n",
       "      <td>998</td>\n",
       "      <td>1.370979689806613</td>\n",
       "      <td>สน</td>\n",
       "    </tr>\n",
       "    <tr>\n",
       "      <td>999</td>\n",
       "      <td>0.6311139915589266</td>\n",
       "      <td>เล</td>\n",
       "    </tr>\n",
       "  </tbody>\n",
       "</table>\n",
       "<p>1000 rows × 2 columns</p>\n",
       "</div>"
      ],
      "text/plain": [
       "                      coef feature_name\n",
       "0       0.4732385140745569           10\n",
       "1       0.2681292972126928          100\n",
       "2       0.8202192603078943           11\n",
       "3       0.2957941227222527           12\n",
       "4      -0.3034699959970425           15\n",
       "..                     ...          ...\n",
       "995    0.41049356068458726      youtube\n",
       "996  -0.014257694160491517       zombie\n",
       "997    -0.4330942148422855      zombies\n",
       "998      1.370979689806613           สน\n",
       "999     0.6311139915589266           เล\n",
       "\n",
       "[1000 rows x 2 columns]"
      ]
     },
     "execution_count": 29,
     "metadata": {},
     "output_type": "execute_result"
    }
   ],
   "source": [
    "tfidf_feature_names = np.array(tfidf_vectorizer.get_feature_names()).reshape([-1, 1])\n",
    "coefs = flda.coef_.reshape([-1, 1])\n",
    "coefs = pd.DataFrame(np.concatenate((coefs, tfidf_feature_names), 1), columns=[\"coef\", \"feature_name\"])\n",
    "coefs"
   ]
  },
  {
   "cell_type": "code",
   "execution_count": 30,
   "metadata": {},
   "outputs": [
    {
     "data": {
      "text/html": [
       "<div>\n",
       "<style scoped>\n",
       "    .dataframe tbody tr th:only-of-type {\n",
       "        vertical-align: middle;\n",
       "    }\n",
       "\n",
       "    .dataframe tbody tr th {\n",
       "        vertical-align: top;\n",
       "    }\n",
       "\n",
       "    .dataframe thead th {\n",
       "        text-align: right;\n",
       "    }\n",
       "</style>\n",
       "<table border=\"1\" class=\"dataframe\">\n",
       "  <thead>\n",
       "    <tr style=\"text-align: right;\">\n",
       "      <th></th>\n",
       "      <th>coef</th>\n",
       "      <th>feature_name</th>\n",
       "    </tr>\n",
       "  </thead>\n",
       "  <tbody>\n",
       "    <tr>\n",
       "      <td>852</td>\n",
       "      <td>-4.450851</td>\n",
       "      <td>stupid</td>\n",
       "    </tr>\n",
       "    <tr>\n",
       "      <td>731</td>\n",
       "      <td>-3.911344</td>\n",
       "      <td>red</td>\n",
       "    </tr>\n",
       "    <tr>\n",
       "      <td>873</td>\n",
       "      <td>-3.786228</td>\n",
       "      <td>tem</td>\n",
       "    </tr>\n",
       "    <tr>\n",
       "      <td>635</td>\n",
       "      <td>-3.685152</td>\n",
       "      <td>overkill</td>\n",
       "    </tr>\n",
       "    <tr>\n",
       "      <td>981</td>\n",
       "      <td>-3.637048</td>\n",
       "      <td>worse</td>\n",
       "    </tr>\n",
       "    <tr>\n",
       "      <td>...</td>\n",
       "      <td>...</td>\n",
       "      <td>...</td>\n",
       "    </tr>\n",
       "    <tr>\n",
       "      <td>417</td>\n",
       "      <td>1.222861</td>\n",
       "      <td>hear</td>\n",
       "    </tr>\n",
       "    <tr>\n",
       "      <td>468</td>\n",
       "      <td>1.248983</td>\n",
       "      <td>jeu</td>\n",
       "    </tr>\n",
       "    <tr>\n",
       "      <td>326</td>\n",
       "      <td>1.256122</td>\n",
       "      <td>finally</td>\n",
       "    </tr>\n",
       "    <tr>\n",
       "      <td>793</td>\n",
       "      <td>1.288702</td>\n",
       "      <td>shot</td>\n",
       "    </tr>\n",
       "    <tr>\n",
       "      <td>998</td>\n",
       "      <td>1.370980</td>\n",
       "      <td>สน</td>\n",
       "    </tr>\n",
       "  </tbody>\n",
       "</table>\n",
       "<p>1000 rows × 2 columns</p>\n",
       "</div>"
      ],
      "text/plain": [
       "         coef feature_name\n",
       "852 -4.450851       stupid\n",
       "731 -3.911344          red\n",
       "873 -3.786228          tem\n",
       "635 -3.685152     overkill\n",
       "981 -3.637048        worse\n",
       "..        ...          ...\n",
       "417  1.222861         hear\n",
       "468  1.248983          jeu\n",
       "326  1.256122      finally\n",
       "793  1.288702         shot\n",
       "998  1.370980           สน\n",
       "\n",
       "[1000 rows x 2 columns]"
      ]
     },
     "execution_count": 30,
     "metadata": {},
     "output_type": "execute_result"
    }
   ],
   "source": [
    "coefs[\"coef\"] = np.array(coefs[\"coef\"], dtype=np.float32)\n",
    "coefs.sort_values(by=['coef'])\n"
   ]
  },
  {
   "cell_type": "code",
   "execution_count": 31,
   "metadata": {},
   "outputs": [],
   "source": [
    "means = flda.means_\n",
    "means_df = pd.DataFrame(np.concatenate((means.reshape([n_features, -1]), tfidf_feature_names), 1), columns=[\"bad_reference\", \"good_reference\", \"feature_name\"])"
   ]
  },
  {
   "cell_type": "code",
   "execution_count": 32,
   "metadata": {},
   "outputs": [
    {
     "data": {
      "text/html": [
       "<div>\n",
       "<style scoped>\n",
       "    .dataframe tbody tr th:only-of-type {\n",
       "        vertical-align: middle;\n",
       "    }\n",
       "\n",
       "    .dataframe tbody tr th {\n",
       "        vertical-align: top;\n",
       "    }\n",
       "\n",
       "    .dataframe thead th {\n",
       "        text-align: right;\n",
       "    }\n",
       "</style>\n",
       "<table border=\"1\" class=\"dataframe\">\n",
       "  <thead>\n",
       "    <tr style=\"text-align: right;\">\n",
       "      <th></th>\n",
       "      <th>bad_reference</th>\n",
       "      <th>good_reference</th>\n",
       "      <th>feature_name</th>\n",
       "    </tr>\n",
       "  </thead>\n",
       "  <tbody>\n",
       "    <tr>\n",
       "      <td>176</td>\n",
       "      <td>1.370214</td>\n",
       "      <td>0.0028099754127151387</td>\n",
       "      <td>continue</td>\n",
       "    </tr>\n",
       "    <tr>\n",
       "      <td>676</td>\n",
       "      <td>0.966585</td>\n",
       "      <td>0.005321933344965974</td>\n",
       "      <td>points</td>\n",
       "    </tr>\n",
       "    <tr>\n",
       "      <td>238</td>\n",
       "      <td>0.253600</td>\n",
       "      <td>0.007024938531787847</td>\n",
       "      <td>divertido</td>\n",
       "    </tr>\n",
       "    <tr>\n",
       "      <td>500</td>\n",
       "      <td>0.249564</td>\n",
       "      <td>0.012476007677543186</td>\n",
       "      <td>leave</td>\n",
       "    </tr>\n",
       "    <tr>\n",
       "      <td>255</td>\n",
       "      <td>0.239550</td>\n",
       "      <td>0.00597119775201967</td>\n",
       "      <td>dying</td>\n",
       "    </tr>\n",
       "    <tr>\n",
       "      <td>690</td>\n",
       "      <td>0.177630</td>\n",
       "      <td>0.03638108532542314</td>\n",
       "      <td>pro</td>\n",
       "    </tr>\n",
       "    <tr>\n",
       "      <td>674</td>\n",
       "      <td>0.171523</td>\n",
       "      <td>0.008855348106787645</td>\n",
       "      <td>plus</td>\n",
       "    </tr>\n",
       "    <tr>\n",
       "      <td>755</td>\n",
       "      <td>0.160269</td>\n",
       "      <td>0.0047984644913627635</td>\n",
       "      <td>sad</td>\n",
       "    </tr>\n",
       "    <tr>\n",
       "      <td>190</td>\n",
       "      <td>0.149982</td>\n",
       "      <td>0.0684931506849315</td>\n",
       "      <td>crash</td>\n",
       "    </tr>\n",
       "    <tr>\n",
       "      <td>304</td>\n",
       "      <td>0.136284</td>\n",
       "      <td>0.022128556375131718</td>\n",
       "      <td>face</td>\n",
       "    </tr>\n",
       "    <tr>\n",
       "      <td>0</td>\n",
       "      <td>0.127854</td>\n",
       "      <td>0.01685985247629083</td>\n",
       "      <td>10</td>\n",
       "    </tr>\n",
       "    <tr>\n",
       "      <td>60</td>\n",
       "      <td>0.125746</td>\n",
       "      <td>0.0228310502283105</td>\n",
       "      <td>aside</td>\n",
       "    </tr>\n",
       "    <tr>\n",
       "      <td>738</td>\n",
       "      <td>0.116646</td>\n",
       "      <td>0.0035770371662886056</td>\n",
       "      <td>repetitive</td>\n",
       "    </tr>\n",
       "    <tr>\n",
       "      <td>174</td>\n",
       "      <td>0.114155</td>\n",
       "      <td>0.006322444678609062</td>\n",
       "      <td>constantly</td>\n",
       "    </tr>\n",
       "    <tr>\n",
       "      <td>325</td>\n",
       "      <td>0.096242</td>\n",
       "      <td>0.003863716192483316</td>\n",
       "      <td>final</td>\n",
       "    </tr>\n",
       "    <tr>\n",
       "      <td>335</td>\n",
       "      <td>0.095890</td>\n",
       "      <td>0.01194239550403934</td>\n",
       "      <td>forever</td>\n",
       "    </tr>\n",
       "    <tr>\n",
       "      <td>704</td>\n",
       "      <td>0.090778</td>\n",
       "      <td>0.006979584714709474</td>\n",
       "      <td>quick</td>\n",
       "    </tr>\n",
       "    <tr>\n",
       "      <td>475</td>\n",
       "      <td>0.089568</td>\n",
       "      <td>0.013347383210396909</td>\n",
       "      <td>jump</td>\n",
       "    </tr>\n",
       "    <tr>\n",
       "      <td>36</td>\n",
       "      <td>0.083597</td>\n",
       "      <td>0.007727432384966632</td>\n",
       "      <td>ai</td>\n",
       "    </tr>\n",
       "    <tr>\n",
       "      <td>220</td>\n",
       "      <td>0.070249</td>\n",
       "      <td>0.006322444678609062</td>\n",
       "      <td>depending</td>\n",
       "    </tr>\n",
       "  </tbody>\n",
       "</table>\n",
       "</div>"
      ],
      "text/plain": [
       "     bad_reference         good_reference feature_name\n",
       "176       1.370214  0.0028099754127151387     continue\n",
       "676       0.966585   0.005321933344965974       points\n",
       "238       0.253600   0.007024938531787847    divertido\n",
       "500       0.249564   0.012476007677543186        leave\n",
       "255       0.239550    0.00597119775201967        dying\n",
       "690       0.177630    0.03638108532542314          pro\n",
       "674       0.171523   0.008855348106787645         plus\n",
       "755       0.160269  0.0047984644913627635          sad\n",
       "190       0.149982     0.0684931506849315        crash\n",
       "304       0.136284   0.022128556375131718         face\n",
       "0         0.127854    0.01685985247629083           10\n",
       "60        0.125746     0.0228310502283105        aside\n",
       "738       0.116646  0.0035770371662886056   repetitive\n",
       "174       0.114155   0.006322444678609062   constantly\n",
       "325       0.096242   0.003863716192483316        final\n",
       "335       0.095890    0.01194239550403934      forever\n",
       "704       0.090778   0.006979584714709474        quick\n",
       "475       0.089568   0.013347383210396909         jump\n",
       "36        0.083597   0.007727432384966632           ai\n",
       "220       0.070249   0.006322444678609062    depending"
      ]
     },
     "execution_count": 32,
     "metadata": {},
     "output_type": "execute_result"
    }
   ],
   "source": [
    "means_df[\"bad_reference\"] = np.array(means_df[\"bad_reference\"], dtype=np.float32)\n",
    "means_df = means_df.sort_values(by=['bad_reference'], ascending=False)\n",
    "means_df[:n_top_words]"
   ]
  },
  {
   "cell_type": "code",
   "execution_count": 33,
   "metadata": {},
   "outputs": [
    {
     "data": {
      "text/html": [
       "<div>\n",
       "<style scoped>\n",
       "    .dataframe tbody tr th:only-of-type {\n",
       "        vertical-align: middle;\n",
       "    }\n",
       "\n",
       "    .dataframe tbody tr th {\n",
       "        vertical-align: top;\n",
       "    }\n",
       "\n",
       "    .dataframe thead th {\n",
       "        text-align: right;\n",
       "    }\n",
       "</style>\n",
       "<table border=\"1\" class=\"dataframe\">\n",
       "  <thead>\n",
       "    <tr style=\"text-align: right;\">\n",
       "      <th></th>\n",
       "      <th>bad_reference</th>\n",
       "      <th>good_reference</th>\n",
       "      <th>feature_name</th>\n",
       "    </tr>\n",
       "  </thead>\n",
       "  <tbody>\n",
       "    <tr>\n",
       "      <td>332</td>\n",
       "      <td>0.009484</td>\n",
       "      <td>0.241658</td>\n",
       "      <td>fixed</td>\n",
       "    </tr>\n",
       "    <tr>\n",
       "      <td>832</td>\n",
       "      <td>0.003097</td>\n",
       "      <td>0.168470</td>\n",
       "      <td>start</td>\n",
       "    </tr>\n",
       "    <tr>\n",
       "      <td>692</td>\n",
       "      <td>0.037733</td>\n",
       "      <td>0.162799</td>\n",
       "      <td>problem</td>\n",
       "    </tr>\n",
       "    <tr>\n",
       "      <td>442</td>\n",
       "      <td>0.009835</td>\n",
       "      <td>0.139796</td>\n",
       "      <td>huge</td>\n",
       "    </tr>\n",
       "    <tr>\n",
       "      <td>361</td>\n",
       "      <td>0.004917</td>\n",
       "      <td>0.128205</td>\n",
       "      <td>gear</td>\n",
       "    </tr>\n",
       "    <tr>\n",
       "      <td>122</td>\n",
       "      <td>0.012645</td>\n",
       "      <td>0.128205</td>\n",
       "      <td>called</td>\n",
       "    </tr>\n",
       "    <tr>\n",
       "      <td>119</td>\n",
       "      <td>0.001054</td>\n",
       "      <td>0.127151</td>\n",
       "      <td>button</td>\n",
       "    </tr>\n",
       "    <tr>\n",
       "      <td>178</td>\n",
       "      <td>0.005620</td>\n",
       "      <td>0.111697</td>\n",
       "      <td>controller</td>\n",
       "    </tr>\n",
       "    <tr>\n",
       "      <td>544</td>\n",
       "      <td>0.005322</td>\n",
       "      <td>0.109798</td>\n",
       "      <td>main</td>\n",
       "    </tr>\n",
       "    <tr>\n",
       "      <td>294</td>\n",
       "      <td>0.003512</td>\n",
       "      <td>0.107130</td>\n",
       "      <td>exciting</td>\n",
       "    </tr>\n",
       "    <tr>\n",
       "      <td>861</td>\n",
       "      <td>0.009117</td>\n",
       "      <td>0.103298</td>\n",
       "      <td>tactical</td>\n",
       "    </tr>\n",
       "    <tr>\n",
       "      <td>678</td>\n",
       "      <td>0.003795</td>\n",
       "      <td>0.099895</td>\n",
       "      <td>por</td>\n",
       "    </tr>\n",
       "    <tr>\n",
       "      <td>460</td>\n",
       "      <td>0.007376</td>\n",
       "      <td>0.099403</td>\n",
       "      <td>island</td>\n",
       "    </tr>\n",
       "    <tr>\n",
       "      <td>273</td>\n",
       "      <td>0.006674</td>\n",
       "      <td>0.085353</td>\n",
       "      <td>engine</td>\n",
       "    </tr>\n",
       "    <tr>\n",
       "      <td>942</td>\n",
       "      <td>0.003359</td>\n",
       "      <td>0.084322</td>\n",
       "      <td>visuals</td>\n",
       "    </tr>\n",
       "    <tr>\n",
       "      <td>45</td>\n",
       "      <td>0.015104</td>\n",
       "      <td>0.078328</td>\n",
       "      <td>amazing</td>\n",
       "    </tr>\n",
       "    <tr>\n",
       "      <td>192</td>\n",
       "      <td>0.042852</td>\n",
       "      <td>0.072708</td>\n",
       "      <td>crashing</td>\n",
       "    </tr>\n",
       "    <tr>\n",
       "      <td>226</td>\n",
       "      <td>0.002107</td>\n",
       "      <td>0.072357</td>\n",
       "      <td>developers</td>\n",
       "    </tr>\n",
       "    <tr>\n",
       "      <td>350</td>\n",
       "      <td>0.007376</td>\n",
       "      <td>0.072357</td>\n",
       "      <td>future</td>\n",
       "    </tr>\n",
       "    <tr>\n",
       "      <td>333</td>\n",
       "      <td>0.009132</td>\n",
       "      <td>0.072357</td>\n",
       "      <td>flying</td>\n",
       "    </tr>\n",
       "  </tbody>\n",
       "</table>\n",
       "</div>"
      ],
      "text/plain": [
       "     bad_reference  good_reference feature_name\n",
       "332       0.009484        0.241658        fixed\n",
       "832       0.003097        0.168470        start\n",
       "692       0.037733        0.162799      problem\n",
       "442       0.009835        0.139796         huge\n",
       "361       0.004917        0.128205         gear\n",
       "122       0.012645        0.128205       called\n",
       "119       0.001054        0.127151       button\n",
       "178       0.005620        0.111697   controller\n",
       "544       0.005322        0.109798         main\n",
       "294       0.003512        0.107130     exciting\n",
       "861       0.009117        0.103298     tactical\n",
       "678       0.003795        0.099895          por\n",
       "460       0.007376        0.099403       island\n",
       "273       0.006674        0.085353       engine\n",
       "942       0.003359        0.084322      visuals\n",
       "45        0.015104        0.078328      amazing\n",
       "192       0.042852        0.072708     crashing\n",
       "226       0.002107        0.072357   developers\n",
       "350       0.007376        0.072357       future\n",
       "333       0.009132        0.072357       flying"
      ]
     },
     "execution_count": 33,
     "metadata": {},
     "output_type": "execute_result"
    }
   ],
   "source": [
    "means_df[\"good_reference\"] = np.array(means_df[\"good_reference\"], dtype=np.float32)\n",
    "means_df = means_df.sort_values(by=['good_reference'], ascending=False)\n",
    "means_df[:n_top_words]"
   ]
  },
  {
   "cell_type": "code",
   "execution_count": 37,
   "metadata": {},
   "outputs": [],
   "source": [
    "from imblearn.over_sampling import SVMSMOTE, SMOTE, BorderlineSMOTE, RandomOverSampler, KMeansSMOTE\n",
    "\n",
    "# sm = SVMSMOTE(random_state=42, n_jobs=-1, svm_estimator=SVC(kernel='linear'))\n",
    "sm = SMOTE(random_state=42)\n",
    "\n",
    "X_res, y_res = sm.fit_resample(data, true_y)\n"
   ]
  },
  {
   "cell_type": "code",
   "execution_count": 38,
   "metadata": {},
   "outputs": [
    {
     "name": "stdout",
     "output_type": "stream",
     "text": [
      "done in 11.928s.\n"
     ]
    }
   ],
   "source": [
    "flda = LinearDiscriminantAnalysis(n_components=1, tol=0.01)\n",
    "t0 = time()\n",
    "flda.fit(X_res, y_res)\n",
    "print(\"done in %0.3fs.\" % (time() - t0))"
   ]
  },
  {
   "cell_type": "code",
   "execution_count": 40,
   "metadata": {},
   "outputs": [
    {
     "name": "stdout",
     "output_type": "stream",
     "text": [
      "37358 / 45848 0.8148228930378643\n"
     ]
    }
   ],
   "source": [
    "predict_y = flda.predict(X_res)\n",
    "arr = np.concatenate((predict_y.reshape([-1, 1]), y_res.reshape([-1, 1])), 1)\n",
    "\n",
    "total = len(arr)\n",
    "corrects = [i for i, x in enumerate(arr) if x[0] == x[1]]\n",
    "print(len(corrects), \"/\", total, len(corrects)/total)"
   ]
  },
  {
   "cell_type": "code",
   "execution_count": 42,
   "metadata": {},
   "outputs": [
    {
     "data": {
      "text/html": [
       "<div>\n",
       "<style scoped>\n",
       "    .dataframe tbody tr th:only-of-type {\n",
       "        vertical-align: middle;\n",
       "    }\n",
       "\n",
       "    .dataframe tbody tr th {\n",
       "        vertical-align: top;\n",
       "    }\n",
       "\n",
       "    .dataframe thead th {\n",
       "        text-align: right;\n",
       "    }\n",
       "</style>\n",
       "<table border=\"1\" class=\"dataframe\">\n",
       "  <thead>\n",
       "    <tr style=\"text-align: right;\">\n",
       "      <th></th>\n",
       "      <th>predictions</th>\n",
       "      <th>true</th>\n",
       "      <th>z</th>\n",
       "    </tr>\n",
       "  </thead>\n",
       "  <tbody>\n",
       "    <tr>\n",
       "      <td>0</td>\n",
       "      <td>1.0</td>\n",
       "      <td>1.0</td>\n",
       "      <td>2.361066</td>\n",
       "    </tr>\n",
       "    <tr>\n",
       "      <td>1</td>\n",
       "      <td>1.0</td>\n",
       "      <td>1.0</td>\n",
       "      <td>1.051911</td>\n",
       "    </tr>\n",
       "    <tr>\n",
       "      <td>2</td>\n",
       "      <td>0.0</td>\n",
       "      <td>1.0</td>\n",
       "      <td>-0.072243</td>\n",
       "    </tr>\n",
       "    <tr>\n",
       "      <td>3</td>\n",
       "      <td>1.0</td>\n",
       "      <td>1.0</td>\n",
       "      <td>1.388708</td>\n",
       "    </tr>\n",
       "    <tr>\n",
       "      <td>4</td>\n",
       "      <td>1.0</td>\n",
       "      <td>1.0</td>\n",
       "      <td>1.315907</td>\n",
       "    </tr>\n",
       "    <tr>\n",
       "      <td>...</td>\n",
       "      <td>...</td>\n",
       "      <td>...</td>\n",
       "      <td>...</td>\n",
       "    </tr>\n",
       "    <tr>\n",
       "      <td>45843</td>\n",
       "      <td>0.0</td>\n",
       "      <td>0.0</td>\n",
       "      <td>-0.618207</td>\n",
       "    </tr>\n",
       "    <tr>\n",
       "      <td>45844</td>\n",
       "      <td>0.0</td>\n",
       "      <td>0.0</td>\n",
       "      <td>-0.659259</td>\n",
       "    </tr>\n",
       "    <tr>\n",
       "      <td>45845</td>\n",
       "      <td>0.0</td>\n",
       "      <td>0.0</td>\n",
       "      <td>-0.659259</td>\n",
       "    </tr>\n",
       "    <tr>\n",
       "      <td>45846</td>\n",
       "      <td>0.0</td>\n",
       "      <td>0.0</td>\n",
       "      <td>-1.067090</td>\n",
       "    </tr>\n",
       "    <tr>\n",
       "      <td>45847</td>\n",
       "      <td>0.0</td>\n",
       "      <td>0.0</td>\n",
       "      <td>-1.456079</td>\n",
       "    </tr>\n",
       "  </tbody>\n",
       "</table>\n",
       "<p>45848 rows × 3 columns</p>\n",
       "</div>"
      ],
      "text/plain": [
       "       predictions  true         z\n",
       "0              1.0   1.0  2.361066\n",
       "1              1.0   1.0  1.051911\n",
       "2              0.0   1.0 -0.072243\n",
       "3              1.0   1.0  1.388708\n",
       "4              1.0   1.0  1.315907\n",
       "...            ...   ...       ...\n",
       "45843          0.0   0.0 -0.618207\n",
       "45844          0.0   0.0 -0.659259\n",
       "45845          0.0   0.0 -0.659259\n",
       "45846          0.0   0.0 -1.067090\n",
       "45847          0.0   0.0 -1.456079\n",
       "\n",
       "[45848 rows x 3 columns]"
      ]
     },
     "execution_count": 42,
     "metadata": {},
     "output_type": "execute_result"
    }
   ],
   "source": [
    "z = flda.transform(X_res)\n",
    "df_y = pd.DataFrame(np.concatenate((arr, z.reshape(-1, 1)),1), columns=[\"predictions\", \"true\", \"z\"])\n",
    "df_y"
   ]
  },
  {
   "cell_type": "code",
   "execution_count": 43,
   "metadata": {},
   "outputs": [
    {
     "data": {
      "image/png": "[encoded data removed]",
      "text/plain": [
       "<Figure size 432x288 with 1 Axes>"
      ]
     },
     "metadata": {},
     "output_type": "display_data"
    }
   ],
   "source": [
    "fig, ax = plt.subplots()\n",
    "ax.bar([0,1], [len(df_y[\"true\"]) - np.sum(df_y[\"true\"]), np.sum(df_y[\"true\"])])\n",
    "ax.set_xticks([0, 1])\n",
    "ax.set_xticklabels([\"Not Recommended\", \"Recommended\"])\n",
    "ax.grid(False)"
   ]
  },
  {
   "cell_type": "code",
   "execution_count": 45,
   "metadata": {},
   "outputs": [
    {
     "data": {
      "image/png": "[encoded data removed]",
      "text/plain": [
       "<Figure size 288x288 with 1 Axes>"
      ]
     },
     "metadata": {},
     "output_type": "display_data"
    },
    {
     "name": "stdout",
     "output_type": "stream",
     "text": [
      "              precision    recall  f1-score   support\n",
      "\n",
      "         0.0       0.76      0.92      0.83     22924\n",
      "         1.0       0.90      0.71      0.79     22924\n",
      "\n",
      "    accuracy                           0.81     45848\n",
      "   macro avg       0.83      0.81      0.81     45848\n",
      "weighted avg       0.83      0.81      0.81     45848\n",
      "\n"
     ]
    }
   ],
   "source": [
    "true_y = np.array(df_y[\"true\"])\n",
    "heatconmat(true_y, predict_y)"
   ]
  },
  {
   "cell_type": "code",
   "execution_count": null,
   "metadata": {},
   "outputs": [],
   "source": []
  }
 ],
 "metadata": {
  "kernelspec": {
   "display_name": "Python 3",
   "language": "python",
   "name": "python3"
  },
  "language_info": {
   "codemirror_mode": {
    "name": "ipython",
    "version": 3
   },
   "file_extension": ".py",
   "mimetype": "text/x-python",
   "name": "python",
   "nbconvert_exporter": "python",
   "pygments_lexer": "ipython3",
   "version": "3.7.0"
  }
 },
 "nbformat": 4,
 "nbformat_minor": 4
}
