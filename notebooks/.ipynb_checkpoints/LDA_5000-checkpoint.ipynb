{
 "cells": [
  {
   "cell_type": "code",
   "execution_count": 1,
   "metadata": {},
   "outputs": [],
   "source": [
    "import os\n",
    "import time\n",
    "#basic imports\n",
    "import pandas as pd\n",
    "import numpy as np\n",
    "import matplotlib.pyplot as plt\n",
    "import seaborn as sns\n",
    "from time import time\n",
    "\n",
    "#word modeling\n",
    "from gensim.models.doc2vec import Doc2Vec, TaggedDocument\n",
    "from nltk.tokenize import word_tokenize \n",
    "from sklearn.model_selection import train_test_split\n",
    "from sklearn.metrics import confusion_matrix, classification_report\n",
    "from sklearn.manifold import TSNE\n",
    "from sklearn.linear_model import LogisticRegression\n",
    "from sklearn.decomposition import PCA \n",
    "from sklearn.decomposition import FactorAnalysis \n",
    "from sklearn.preprocessing import StandardScaler\n",
    "from sklearn.discriminant_analysis import LinearDiscriminantAnalysis\n",
    "from sklearn.manifold import TSNE\n",
    "from sklearn.svm import SVC\n",
    "from sklearn.model_selection import cross_val_predict\n",
    "from gensim.parsing.preprocessing import remove_stopwords\n",
    "import nltk\n",
    "\n",
    "import warnings\n",
    "warnings.filterwarnings(\"ignore\",category=DeprecationWarning)\n",
    "warnings.filterwarnings('ignore',message=\"Precision\")\n",
    "\n",
    "from sklearn.decomposition import LatentDirichletAllocation\n",
    "from sklearn.feature_extraction.text import TfidfVectorizer, CountVectorizer\n",
    "from sklearn.decomposition import NMF, LatentDirichletAllocation\n"
   ]
  },
  {
   "cell_type": "code",
   "execution_count": 2,
   "metadata": {},
   "outputs": [],
   "source": [
    "def print_top_words(model, feature_names, n_top_words):\n",
    "    for topic_idx, topic in enumerate(model.components_):\n",
    "        message = \"Topic #%d: \" % topic_idx\n",
    "        message += \" \".join([feature_names[i]\n",
    "                             for i in topic.argsort()[:-n_top_words - 1:-1]])\n",
    "        print(message)\n",
    "    print()\n"
   ]
  },
  {
   "cell_type": "code",
   "execution_count": 3,
   "metadata": {},
   "outputs": [],
   "source": [
    "n_features = 5000\n",
    "n_top_words = 20"
   ]
  },
  {
   "cell_type": "markdown",
   "metadata": {},
   "source": [
    "# load data\n"
   ]
  },
  {
   "cell_type": "code",
   "execution_count": 4,
   "metadata": {},
   "outputs": [
    {
     "data": {
      "text/html": [
       "<div>\n",
       "<style scoped>\n",
       "    .dataframe tbody tr th:only-of-type {\n",
       "        vertical-align: middle;\n",
       "    }\n",
       "\n",
       "    .dataframe tbody tr th {\n",
       "        vertical-align: top;\n",
       "    }\n",
       "\n",
       "    .dataframe thead th {\n",
       "        text-align: right;\n",
       "    }\n",
       "</style>\n",
       "<table border=\"1\" class=\"dataframe\">\n",
       "  <thead>\n",
       "    <tr style=\"text-align: right;\">\n",
       "      <th></th>\n",
       "      <th>id</th>\n",
       "      <th>funny</th>\n",
       "      <th>helpful</th>\n",
       "      <th>recommend</th>\n",
       "      <th>polarity</th>\n",
       "      <th>positive</th>\n",
       "      <th>subjectivity</th>\n",
       "      <th>review</th>\n",
       "    </tr>\n",
       "  </thead>\n",
       "  <tbody>\n",
       "    <tr>\n",
       "      <td>1</td>\n",
       "      <td>76561197970982479</td>\n",
       "      <td>NaN</td>\n",
       "      <td>No ratings yet</td>\n",
       "      <td>1</td>\n",
       "      <td>0.17444444444444446</td>\n",
       "      <td>True</td>\n",
       "      <td>0.3796031746031746</td>\n",
       "      <td>Simple yet with great replayability. In my opi...</td>\n",
       "    </tr>\n",
       "    <tr>\n",
       "      <td>2</td>\n",
       "      <td>js41637</td>\n",
       "      <td>NaN</td>\n",
       "      <td>15 of 20 people (75%) found this review helpful</td>\n",
       "      <td>1</td>\n",
       "      <td>0.11458333333333336</td>\n",
       "      <td>True</td>\n",
       "      <td>0.6604166666666667</td>\n",
       "      <td>I know what you think when you see this title ...</td>\n",
       "    </tr>\n",
       "    <tr>\n",
       "      <td>3</td>\n",
       "      <td>evcentric</td>\n",
       "      <td>NaN</td>\n",
       "      <td>No ratings yet</td>\n",
       "      <td>1</td>\n",
       "      <td>0.23154761904761909</td>\n",
       "      <td>True</td>\n",
       "      <td>0.5267857142857143</td>\n",
       "      <td>A suitably punishing roguelike platformer.  Wi...</td>\n",
       "    </tr>\n",
       "    <tr>\n",
       "      <td>4</td>\n",
       "      <td>doctr</td>\n",
       "      <td>NaN</td>\n",
       "      <td>2 of 2 people (100%) found this review helpful</td>\n",
       "      <td>1</td>\n",
       "      <td>0.25785714285714284</td>\n",
       "      <td>True</td>\n",
       "      <td>0.4723809523809524</td>\n",
       "      <td>This game... is so fun. The fight sequences ha...</td>\n",
       "    </tr>\n",
       "    <tr>\n",
       "      <td>5</td>\n",
       "      <td>maplemage</td>\n",
       "      <td>3 people found this review funny</td>\n",
       "      <td>35 of 43 people (81%) found this review helpful</td>\n",
       "      <td>1</td>\n",
       "      <td>0.0</td>\n",
       "      <td>False</td>\n",
       "      <td>0.0</td>\n",
       "      <td>Git gud</td>\n",
       "    </tr>\n",
       "    <tr>\n",
       "      <td>...</td>\n",
       "      <td>...</td>\n",
       "      <td>...</td>\n",
       "      <td>...</td>\n",
       "      <td>...</td>\n",
       "      <td>...</td>\n",
       "      <td>...</td>\n",
       "      <td>...</td>\n",
       "      <td>...</td>\n",
       "    </tr>\n",
       "    <tr>\n",
       "      <td>25795</td>\n",
       "      <td>76561198306599751</td>\n",
       "      <td>NaN</td>\n",
       "      <td>0 of 1 people (0%) found this review helpful</td>\n",
       "      <td>1</td>\n",
       "      <td>0.39999999999999997</td>\n",
       "      <td>True</td>\n",
       "      <td>0.6000000000000001</td>\n",
       "      <td>I cried in the end its so sadding ]'; I wish l...</td>\n",
       "    </tr>\n",
       "    <tr>\n",
       "      <td>25796</td>\n",
       "      <td>Ghoustik</td>\n",
       "      <td>NaN</td>\n",
       "      <td>0 of 1 people (0%) found this review helpful</td>\n",
       "      <td>1</td>\n",
       "      <td>0.0</td>\n",
       "      <td>False</td>\n",
       "      <td>0.0</td>\n",
       "      <td>Gra naprawdę fajna.Ale jest kilka rzeczy do kt...</td>\n",
       "    </tr>\n",
       "    <tr>\n",
       "      <td>25797</td>\n",
       "      <td>76561198310819422</td>\n",
       "      <td>1 person found this review funny</td>\n",
       "      <td>1 of 1 people (100%) found this review helpful</td>\n",
       "      <td>1</td>\n",
       "      <td>0.0</td>\n",
       "      <td>False</td>\n",
       "      <td>0.0</td>\n",
       "      <td>Well Done</td>\n",
       "    </tr>\n",
       "    <tr>\n",
       "      <td>25798</td>\n",
       "      <td>76561198312638244</td>\n",
       "      <td>NaN</td>\n",
       "      <td>No ratings yet</td>\n",
       "      <td>1</td>\n",
       "      <td>0.2490909090909091</td>\n",
       "      <td>True</td>\n",
       "      <td>0.5509090909090909</td>\n",
       "      <td>this is a very fun and nice 80s themed shooter...</td>\n",
       "    </tr>\n",
       "    <tr>\n",
       "      <td>25799</td>\n",
       "      <td>LydiaMorley</td>\n",
       "      <td>1 person found this review funny</td>\n",
       "      <td>1 of 2 people (50%) found this review helpful</td>\n",
       "      <td>1</td>\n",
       "      <td>0.08750000000000001</td>\n",
       "      <td>False</td>\n",
       "      <td>0.3833333333333333</td>\n",
       "      <td>had so much fun plaing this and collecting res...</td>\n",
       "    </tr>\n",
       "  </tbody>\n",
       "</table>\n",
       "<p>25799 rows × 8 columns</p>\n",
       "</div>"
      ],
      "text/plain": [
       "                      id                             funny  \\\n",
       "1      76561197970982479                               NaN   \n",
       "2                js41637                               NaN   \n",
       "3              evcentric                               NaN   \n",
       "4                  doctr                               NaN   \n",
       "5              maplemage  3 people found this review funny   \n",
       "...                  ...                               ...   \n",
       "25795  76561198306599751                               NaN   \n",
       "25796           Ghoustik                               NaN   \n",
       "25797  76561198310819422  1 person found this review funny   \n",
       "25798  76561198312638244                               NaN   \n",
       "25799        LydiaMorley  1 person found this review funny   \n",
       "\n",
       "                                               helpful recommend  \\\n",
       "1                                       No ratings yet         1   \n",
       "2      15 of 20 people (75%) found this review helpful         1   \n",
       "3                                       No ratings yet         1   \n",
       "4       2 of 2 people (100%) found this review helpful         1   \n",
       "5      35 of 43 people (81%) found this review helpful         1   \n",
       "...                                                ...       ...   \n",
       "25795     0 of 1 people (0%) found this review helpful         1   \n",
       "25796     0 of 1 people (0%) found this review helpful         1   \n",
       "25797   1 of 1 people (100%) found this review helpful         1   \n",
       "25798                                   No ratings yet         1   \n",
       "25799    1 of 2 people (50%) found this review helpful         1   \n",
       "\n",
       "                  polarity positive        subjectivity  \\\n",
       "1      0.17444444444444446     True  0.3796031746031746   \n",
       "2      0.11458333333333336     True  0.6604166666666667   \n",
       "3      0.23154761904761909     True  0.5267857142857143   \n",
       "4      0.25785714285714284     True  0.4723809523809524   \n",
       "5                      0.0    False                 0.0   \n",
       "...                    ...      ...                 ...   \n",
       "25795  0.39999999999999997     True  0.6000000000000001   \n",
       "25796                  0.0    False                 0.0   \n",
       "25797                  0.0    False                 0.0   \n",
       "25798   0.2490909090909091     True  0.5509090909090909   \n",
       "25799  0.08750000000000001    False  0.3833333333333333   \n",
       "\n",
       "                                                  review  \n",
       "1      Simple yet with great replayability. In my opi...  \n",
       "2      I know what you think when you see this title ...  \n",
       "3      A suitably punishing roguelike platformer.  Wi...  \n",
       "4      This game... is so fun. The fight sequences ha...  \n",
       "5                                                Git gud  \n",
       "...                                                  ...  \n",
       "25795  I cried in the end its so sadding ]'; I wish l...  \n",
       "25796  Gra naprawdę fajna.Ale jest kilka rzeczy do kt...  \n",
       "25797                                          Well Done  \n",
       "25798  this is a very fun and nice 80s themed shooter...  \n",
       "25799  had so much fun plaing this and collecting res...  \n",
       "\n",
       "[25799 rows x 8 columns]"
      ]
     },
     "execution_count": 4,
     "metadata": {},
     "output_type": "execute_result"
    }
   ],
   "source": [
    "train_docs = pd.read_csv('../steam_australia.csv', \n",
    "                         names=[\"id\", \"funny\", \"helpful\", \"recommend\",\n",
    "                               \"polarity\", \"positive\", \"subjectivity\", \"review\"],\n",
    "                        header=None).reset_index(drop=True)[1:]\n",
    "recommend_indices = [i for i, x in enumerate(np.array(train_docs[\"recommend\"])) if type(x) == str]\n",
    "train_docs"
   ]
  },
  {
   "cell_type": "code",
   "execution_count": null,
   "metadata": {},
   "outputs": [],
   "source": []
  },
  {
   "cell_type": "code",
   "execution_count": 5,
   "metadata": {},
   "outputs": [
    {
     "name": "stdout",
     "output_type": "stream",
     "text": [
      "done in 0.827s.\n"
     ]
    }
   ],
   "source": [
    "data_samples = train_docs['review']\n",
    "t0 = time()\n",
    "tfidf_vectorizer = TfidfVectorizer(max_df=0.95, min_df=2,\n",
    "                                   max_features=n_features,\n",
    "                                   stop_words='english')\n",
    "tfidf  = tfidf_vectorizer.fit_transform(data_samples.astype('U'))\n",
    "print(\"done in %0.3fs.\" % (time() - t0))\n"
   ]
  },
  {
   "cell_type": "code",
   "execution_count": 6,
   "metadata": {},
   "outputs": [],
   "source": [
    "tf_vectorizer = CountVectorizer(max_df=0.95, min_df=1,\n",
    "                                max_features=n_features,\n",
    "                                stop_words='english')\n",
    "tf = tf_vectorizer.fit_transform(data_samples.astype('U'))\n"
   ]
  },
  {
   "cell_type": "code",
   "execution_count": 7,
   "metadata": {},
   "outputs": [],
   "source": [
    "true_y = np.array(np.array(train_docs[\"recommend\"])[recommend_indices], dtype=int)\n",
    "np.unique(true_y)\n",
    "data = tf.toarray()[recommend_indices]"
   ]
  },
  {
   "cell_type": "code",
   "execution_count": null,
   "metadata": {},
   "outputs": [],
   "source": [
    "flda = LinearDiscriminantAnalysis(n_components=1, tol=0.001)\n",
    "t0 = time()\n",
    "flda.fit(data, true_y)\n",
    "print(\"done in %0.3fs.\" % (time() - t0))"
   ]
  },
  {
   "cell_type": "markdown",
   "metadata": {},
   "source": [
    "# Precision"
   ]
  },
  {
   "cell_type": "code",
   "execution_count": null,
   "metadata": {},
   "outputs": [],
   "source": [
    "predict_y = flda.predict(tf.toarray()[recommend_indices])\n",
    "arr = np.concatenate((predict_y.reshape([-1, 1]), true_y.reshape([-1, 1])), 1)\n",
    "\n",
    "total = len(arr)\n",
    "corrects = [i for i, x in enumerate(arr) if x[0] == x[1]]\n",
    "print(len(corrects), \"/\", total, len(corrects)/total)"
   ]
  },
  {
   "cell_type": "code",
   "execution_count": null,
   "metadata": {},
   "outputs": [],
   "source": [
    "def heatconmat(y_true, y_pred):\n",
    "    sns.set_context('talk')\n",
    "    plt.figure(figsize=(4,4))\n",
    "    sns.heatmap(confusion_matrix(y_true,y_pred),\n",
    "                annot=True,\n",
    "                fmt='d',\n",
    "                cbar=False,\n",
    "                cmap='gist_earth_r')\n",
    "    plt.show()\n",
    "    print(classification_report(y_true,y_pred))"
   ]
  },
  {
   "cell_type": "code",
   "execution_count": null,
   "metadata": {},
   "outputs": [],
   "source": [
    "heatconmat(true_y, predict_y)"
   ]
  },
  {
   "cell_type": "markdown",
   "metadata": {},
   "source": [
    "Predicting too many recommendations because of the bias in the data (Need to rectify)"
   ]
  },
  {
   "cell_type": "code",
   "execution_count": null,
   "metadata": {},
   "outputs": [],
   "source": [
    "z = flda.transform(tf.toarray()[recommend_indices])\n",
    "df_y = pd.DataFrame(np.concatenate((arr, z.reshape(-1, 1)),1), columns=[\"predictions\", \"true\", \"z\"])\n",
    "df_y"
   ]
  },
  {
   "cell_type": "markdown",
   "metadata": {},
   "source": [
    "Recommendation distribution"
   ]
  },
  {
   "cell_type": "code",
   "execution_count": null,
   "metadata": {},
   "outputs": [],
   "source": [
    "fig, ax = plt.subplots()\n",
    "ax.bar([0,1], [len(df_y[\"true\"]) - np.sum(df_y[\"true\"]), np.sum(df_y[\"true\"])])\n",
    "ax.set_xticks([0, 1])\n",
    "ax.set_xticklabels([\"Not Recommended\", \"Recommended\"])\n",
    "ax.grid(False)"
   ]
  },
  {
   "cell_type": "code",
   "execution_count": null,
   "metadata": {},
   "outputs": [],
   "source": [
    "sns.set(style=\"whitegrid\")\n",
    "n_true_recommend = sum(df_y[\"true\"])\n",
    "n_true_preds = sum(df_y[\"predictions\"])\n",
    "n_false_recommend = len(df_y[\"true\"]) - n_true_recommend\n",
    "n_false_preds = len(df_y[\"predictions\"]) - n_true_preds\n",
    "x = np.array([0, 1])\n",
    "\n",
    "width = 0.35  # the width of the bars\n",
    "\n",
    "fig, ax = plt.subplots()\n",
    "rects1 = ax.bar(x - width/2, [n_false_recommend, n_true_recommend], width, label='true')\n",
    "rects2 = ax.bar(x + width/2, [n_false_preds, n_true_preds], width, label='predictions')\n",
    "ax.set_xticks(x)\n",
    "ax.set_xticklabels([\"Not Recommended\", \"Recommended\"])\n",
    "ax.legend()\n",
    "ax.grid(False)"
   ]
  },
  {
   "cell_type": "code",
   "execution_count": null,
   "metadata": {},
   "outputs": [],
   "source": [
    "sns.set(style=\"ticks\", color_codes=True)\n",
    "sns.boxplot(x=\"true\", y=\"z\", data=df_y);"
   ]
  },
  {
   "cell_type": "code",
   "execution_count": null,
   "metadata": {},
   "outputs": [],
   "source": [
    "sns.set(style=\"ticks\", color_codes=True)\n",
    "sns.boxplot(x=\"predictions\", y=\"z\", data=df_y);"
   ]
  },
  {
   "cell_type": "code",
   "execution_count": null,
   "metadata": {},
   "outputs": [],
   "source": [
    "sns.set(style=\"ticks\", color_codes=True)\n",
    "sns.violinplot(x=\"true\", y=\"z\", data=df_y);"
   ]
  },
  {
   "cell_type": "code",
   "execution_count": null,
   "metadata": {},
   "outputs": [],
   "source": [
    "sns.set(style=\"ticks\", color_codes=True)\n",
    "sns.distplot(df_y[\"z\"][df_y[\"true\"] == 1], hist=True, label=\"Recommended\")\n",
    "sns.distplot(df_y[\"z\"][df_y[\"true\"] == 0], hist=True, label=\"Not Recommended\")"
   ]
  },
  {
   "cell_type": "code",
   "execution_count": null,
   "metadata": {},
   "outputs": [],
   "source": [
    "sns.set(style=\"ticks\", color_codes=True)\n",
    "sns.kdeplot(df_y[\"z\"][df_y[\"predictions\"] == 1], shade=True, label=\"Recommended\")\n",
    "sns.kdeplot(df_y[\"z\"][df_y[\"predictions\"] == 0], shade=True, label=\"Not Recommended\")"
   ]
  },
  {
   "cell_type": "code",
   "execution_count": null,
   "metadata": {},
   "outputs": [],
   "source": [
    "y = np.array(df_y[\"predictions\"])\n",
    "arr = np.concatenate((y.reshape([-1, 1]), true_y.reshape([-1, 1])), 1)\n",
    "corrects = [i for i, x in enumerate(arr) if x[0] == x[1]]\n",
    "corrects_pos = [i for i, x in enumerate(arr) if x[0] == x[1] and x[0] == 1]\n",
    "corrects_neg = [i for i, x in enumerate(arr) if x[0] == x[1] and x[0] == 0]\n",
    "sns.set(style=\"ticks\", color_codes=True)\n",
    "sns.kdeplot(df_y[\"z\"][corrects_pos], shade=True, label=\"Recommended\")\n",
    "sns.kdeplot(df_y[\"z\"][corrects_neg], shade=True, label=\"Not Recommended\")"
   ]
  },
  {
   "cell_type": "code",
   "execution_count": null,
   "metadata": {},
   "outputs": [],
   "source": [
    "incorrects = [i for i, x in enumerate(arr) if x[0] == x[1]]\n",
    "incorrects_pos = [i for i, x in enumerate(arr) if x[0] != x[1] and x[0] == 1]\n",
    "incorrects_neg = [i for i, x in enumerate(arr) if x[0] != x[1] and x[0] == 0]\n",
    "sns.set(style=\"ticks\", color_codes=True)\n",
    "sns.kdeplot(df_y[\"z\"][incorrects_pos], shade=True, label=\"Recommended\")\n",
    "sns.kdeplot(df_y[\"z\"][incorrects_neg], shade=True, label=\"Not Recommended\")"
   ]
  },
  {
   "cell_type": "code",
   "execution_count": null,
   "metadata": {},
   "outputs": [],
   "source": [
    "def rand_jitter(arr):\n",
    "    stdev = .01*(max(arr)-min(arr))\n",
    "    return arr + np.random.randn(len(arr)) * stdev\n",
    "\n",
    "df_y[\"true\"] = np.array([float(x) for x in df_y[\"true\"]])\n",
    "df_y[\"true\"] = rand_jitter(np.array(df_y[\"true\"]))\n",
    "fig = plt.figure()\n",
    "ax = fig.add_subplot(111)\n",
    "ax.scatter(df_y[\"true\"][corrects_pos]+0.1, df_y[\"z\"][corrects_pos], marker=\"o\", s=20, facecolors='none', edgecolors='b')\n",
    "ax.scatter(df_y[\"true\"][corrects_neg]+0.1, df_y[\"z\"][corrects_neg], marker=\"o\", s=20, facecolors='none', edgecolors='b')\n",
    "ax.scatter(df_y[\"true\"][incorrects_pos]-0.1, df_y[\"z\"][incorrects_pos], marker=\"o\", s=20, facecolors='none', edgecolors='r')\n",
    "ax.scatter(df_y[\"true\"][incorrects_neg]-0.1, df_y[\"z\"][incorrects_neg], marker=\"o\", s=20, facecolors='none', edgecolors='r')\n"
   ]
  },
  {
   "cell_type": "code",
   "execution_count": null,
   "metadata": {},
   "outputs": [],
   "source": [
    "import seaborn as sns\n",
    "df_y = pd.DataFrame(np.concatenate((arr, z.reshape(-1, 1)),1), columns=[\"predictions\", \"true\", \"z\"])\n",
    "sns.set(style=\"whitegrid\")\n",
    "g = sns.catplot(x=\"true\", y=\"z\", hue=\"predictions\", data=df_y,\n",
    "                height=6, kind=\"bar\", palette=\"muted\")\n",
    "g.despine(left=True)\n",
    "g.set_ylabels(\"z\")"
   ]
  },
  {
   "cell_type": "code",
   "execution_count": null,
   "metadata": {},
   "outputs": [],
   "source": [
    "import seaborn as sns\n",
    "df_y = pd.DataFrame(np.concatenate((arr, z.reshape(-1, 1)),1), columns=[\"predictions\", \"true\", \"z\"])\n",
    "# sns.set(style=\"whitegrid\")\n",
    "g = sns.boxplot(x=\"true\", y=\"z\", hue=\"predictions\", data=df_y, palette=\"muted\")"
   ]
  },
  {
   "cell_type": "code",
   "execution_count": null,
   "metadata": {},
   "outputs": [],
   "source": [
    "g = sns.violinplot(x=\"true\", y=\"z\", hue=\"predictions\", data=df_y, palette=\"muted\")"
   ]
  },
  {
   "cell_type": "code",
   "execution_count": null,
   "metadata": {},
   "outputs": [],
   "source": [
    "import seaborn as sns\n",
    "arr = np.concatenate((y.reshape([-1, 1]), true_y.reshape([-1, 1])), 1)\n",
    "corrects = np.array([0 if x[0] == x[1] else 1 for i, x in enumerate(arr)])\n",
    "recommends = np.array([0 if x[0] == 0 else 1 for i, x in enumerate(arr)])\n",
    "\n",
    "df_y2 = pd.DataFrame(np.concatenate((corrects.reshape(-1, 1), \n",
    "                                    recommends.reshape(-1, 1), \n",
    "                                    z.reshape(-1, 1)),1), \n",
    "                    columns=[\"correct\", \"recommend\", \"z\"])\n",
    "\n",
    "sns.set(style=\"whitegrid\")\n",
    "g = sns.catplot(x=\"correct\", y=\"z\", hue=\"recommend\", data=df_y2,\n",
    "                height=6, kind=\"bar\", palette=\"muted\")\n",
    "g.despine(left=True)\n",
    "g.set_ylabels(\"z\")"
   ]
  },
  {
   "cell_type": "code",
   "execution_count": null,
   "metadata": {},
   "outputs": [],
   "source": [
    "g = sns.violinplot(x=\"correct\", y=\"z\", hue=\"recommend\", data=df_y2, palette=\"muted\")"
   ]
  },
  {
   "cell_type": "code",
   "execution_count": null,
   "metadata": {},
   "outputs": [],
   "source": [
    "g = sns.boxplot(x=\"correct\", y=\"z\", hue=\"recommend\", data=df_y2, palette=\"muted\")"
   ]
  },
  {
   "cell_type": "code",
   "execution_count": null,
   "metadata": {},
   "outputs": [],
   "source": [
    "tfidf_feature_names = np.array(tfidf_vectorizer.get_feature_names()).reshape([-1, 1])\n",
    "coefs = flda.coef_.reshape([-1, 1])\n",
    "coefs = pd.DataFrame(np.concatenate((coefs, tfidf_feature_names), 1), columns=[\"coef\", \"feature_name\"])\n",
    "coefs"
   ]
  },
  {
   "cell_type": "code",
   "execution_count": null,
   "metadata": {},
   "outputs": [],
   "source": [
    "coefs[\"coef\"] = np.array(coefs[\"coef\"], dtype=np.float32)\n",
    "coefs.sort_values(by=['coef'])\n"
   ]
  },
  {
   "cell_type": "code",
   "execution_count": null,
   "metadata": {},
   "outputs": [],
   "source": [
    "means = flda.means_\n",
    "means_df = pd.DataFrame(np.concatenate((means.reshape([n_features, -1]), tfidf_feature_names), 1),\n",
    "                        columns=[\"bad_reference\", \"good_reference\", \"feature_name\"])\n",
    "\n",
    "means_df[\"bad_reference\"] = np.array(means_df[\"bad_reference\"], dtype=np.float32)\n",
    "means_df = means_df.sort_values(by=['bad_reference'], ascending=False)\n",
    "means_df[:n_top_words]"
   ]
  },
  {
   "cell_type": "code",
   "execution_count": null,
   "metadata": {},
   "outputs": [],
   "source": [
    "means_df[\"good_reference\"] = np.array(means_df[\"good_reference\"], dtype=np.float32)\n",
    "means_df = means_df.sort_values(by=['good_reference'], ascending=False)\n",
    "means_df[:n_top_words]"
   ]
  },
  {
   "cell_type": "code",
   "execution_count": null,
   "metadata": {},
   "outputs": [],
   "source": [
    "from imblearn.over_sampling import SVMSMOTE, SMOTE, BorderlineSMOTE, RandomOverSampler, KMeansSMOTE, ADASYN\n",
    "\n",
    "# sm = SVMSMOTE(random_state=42, n_jobs=-1, svm_estimator=SVC(kernel='linear'))\n",
    "sm = SMOTE(random_state=42, n_jobs=-1)\n",
    "\n",
    "X_res, y_res = sm.fit_resample(data, true_y)\n"
   ]
  },
  {
   "cell_type": "code",
   "execution_count": null,
   "metadata": {},
   "outputs": [],
   "source": [
    "flda_smote = LinearDiscriminantAnalysis(n_components=1, tol=0.001)\n",
    "t0 = time()\n",
    "flda_smote.fit(X_res, y_res)\n",
    "print(\"done in %0.3fs.\" % (time() - t0))"
   ]
  },
  {
   "cell_type": "code",
   "execution_count": null,
   "metadata": {},
   "outputs": [],
   "source": [
    "predict_y = flda_smote.predict(X_res)\n",
    "arr = np.concatenate((predict_y.reshape([-1, 1]), y_res.reshape([-1, 1])), 1)\n",
    "\n",
    "total = len(arr)\n",
    "corrects = [i for i, x in enumerate(arr) if x[0] == x[1]]\n",
    "print(len(corrects), \"/\", total, len(corrects)/total)"
   ]
  },
  {
   "cell_type": "code",
   "execution_count": null,
   "metadata": {},
   "outputs": [],
   "source": [
    "z = flda_smote.transform(X_res)\n",
    "df_y = pd.DataFrame(np.concatenate((arr, z.reshape(-1, 1)),1), columns=[\"predictions\", \"true\", \"z\"])\n",
    "df_y"
   ]
  },
  {
   "cell_type": "code",
   "execution_count": null,
   "metadata": {},
   "outputs": [],
   "source": [
    "fig, ax = plt.subplots()\n",
    "ax.bar([0,1], [len(df_y[\"true\"]) - np.sum(df_y[\"true\"]), np.sum(df_y[\"true\"])])\n",
    "ax.set_xticks([0, 1])\n",
    "ax.set_xticklabels([\"Not Recommended\", \"Recommended\"])\n",
    "ax.grid(False)"
   ]
  },
  {
   "cell_type": "code",
   "execution_count": null,
   "metadata": {},
   "outputs": [],
   "source": [
    "true_y2 = np.array(df_y[\"true\"])\n",
    "heatconmat(true_y2, predict_y)"
   ]
  },
  {
   "cell_type": "code",
   "execution_count": null,
   "metadata": {},
   "outputs": [],
   "source": [
    "means = flda_smote.means_\n",
    "means_df = pd.DataFrame(np.concatenate((means.reshape([n_features, -1]), tfidf_feature_names), 1),\n",
    "                        columns=[\"bad_reference\", \"good_reference\", \"feature_name\"])\n",
    "\n",
    "means_df[\"bad_reference\"] = np.array(means_df[\"bad_reference\"], dtype=np.float32)\n",
    "means_df = means_df.sort_values(by=['bad_reference'], ascending=False)\n",
    "means_df[:n_top_words]"
   ]
  },
  {
   "cell_type": "code",
   "execution_count": null,
   "metadata": {},
   "outputs": [],
   "source": [
    "means_df[\"good_reference\"] = np.array(means_df[\"good_reference\"], dtype=np.float32)\n",
    "means_df = means_df.sort_values(by=['good_reference'], ascending=False)\n",
    "means_df[:n_top_words]"
   ]
  },
  {
   "cell_type": "code",
   "execution_count": null,
   "metadata": {},
   "outputs": [],
   "source": []
  }
 ],
 "metadata": {
  "kernelspec": {
   "display_name": "Python 3",
   "language": "python",
   "name": "python3"
  },
  "language_info": {
   "codemirror_mode": {
    "name": "ipython",
    "version": 3
   },
   "file_extension": ".py",
   "mimetype": "text/x-python",
   "name": "python",
   "nbconvert_exporter": "python",
   "pygments_lexer": "ipython3",
   "version": "3.7.0"
  }
 },
 "nbformat": 4,
 "nbformat_minor": 4
}
